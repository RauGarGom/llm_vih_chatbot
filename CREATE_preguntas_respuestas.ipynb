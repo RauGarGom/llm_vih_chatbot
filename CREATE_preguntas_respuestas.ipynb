{
 "cells": [
  {
   "cell_type": "markdown",
   "metadata": {},
   "source": [
    "TABLA PREGUNTAS:\n",
    "\n",
    "- ID_pregunta: INT not null incremental (se genera automáticamente)\n",
    "- usuario: Usuario al que se le pregunta (listado cerrado: \"usuario\"/\"sociosanitario\")\n",
    "- contenido TEXT NOT NULL: texto libre en el que se incluye la pregunta\n",
    "- data_date : Fecha y hora de la última modificación de la pregunta\n",
    "- activa: booleano que indica si la pregunta está en uso o no en el chat\n",
    "\n",
    "TABLA RESPUESTAS:\n",
    "- ID_respuesta: INT not null incremental\n",
    "- contenido (texto)\n",
    "- data_date:  Fecha y hora de la última modificación de la respuesta\n",
    "- ID_pregunta (FK de la tabla PREGUNTAS)"
   ]
  },
  {
   "cell_type": "code",
   "execution_count": null,
   "metadata": {},
   "outputs": [],
   "source": [
    "tabla_preguntas = '''\n",
    "                CREATE TABLE IF NOT EXISTS preguntas (\n",
    "                    ID_pregunta SERIAL PRIMARY KEY,\n",
    "                    usuario VARCHAR(15) NOT NULL,\n",
    "                    contenido VARCHAR(255) NOT NULL,\n",
    "                    data_date TIMESTAMP DEFAULT CURRENT_TIMESTAMP \n",
    "                    activa boolean\n",
    "                )\n",
    "               '''"
   ]
  },
  {
   "cell_type": "code",
   "execution_count": null,
   "metadata": {},
   "outputs": [],
   "source": [
    "tabla_respuestas = '''\n",
    "                CREATE TABLE IF NOT EXISTS respuestas (\n",
    "                    ID_respuesta SERIAL PRIMARY KEY,\n",
    "                    contenido VARCHAR(255) NOT NULL,\n",
    "                    data_date TIMESTAMP DEFAULT CURRENT_TIMESTAMP \n",
    "                    ID_pregunta \n",
    "                )\n",
    "               '''"
   ]
  },
  {
   "cell_type": "code",
   "execution_count": null,
   "metadata": {},
   "outputs": [],
   "source": [
    "tabla_respuestas = '''\n",
    "                        ALTER TABLE respuestas\n",
    "                        ADD FOREIGN KEY (ID_pregunta) REFERENCES preguntas(ID_pregunta)\n",
    "                    '''"
   ]
  }
 ],
 "metadata": {
  "kernelspec": {
   "display_name": "Python 3",
   "language": "python",
   "name": "python3"
  },
  "language_info": {
   "codemirror_mode": {
    "name": "ipython",
    "version": 3
   },
   "file_extension": ".py",
   "mimetype": "text/x-python",
   "name": "python",
   "nbconvert_exporter": "python",
   "pygments_lexer": "ipython3",
   "version": "3.12.0"
  }
 },
 "nbformat": 4,
 "nbformat_minor": 2
}
