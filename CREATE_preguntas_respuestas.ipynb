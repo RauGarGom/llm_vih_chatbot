{
 "cells": [
  {
   "cell_type": "markdown",
   "metadata": {},
   "source": [
    "TABLA PREGUNTAS:\n",
    "\n",
    "- ID_pregunta: INT not null incremental (se genera automáticamente)\n",
    "- usuario: Usuario al que se le pregunta (listado cerrado: \"usuario\"/\"sociosanitario\")\n",
    "- contenido TEXT NOT NULL: texto libre en el que se incluye la pregunta\n",
    "- data_date : Fecha y hora de la última modificación de la pregunta\n",
    "- activa: booleano que indica si la pregunta está en uso o no en el chat\n",
    "\n",
    "TABLA RESPUESTAS:\n",
    "- ID_respuesta: INT not null incremental\n",
    "- contenido (texto)\n",
    "- data_date:  Fecha y hora de la última modificación de la respuesta\n",
    "- ID_pregunta (FK de la tabla PREGUNTAS)"
   ]
  },
  {
   "cell_type": "code",
   "execution_count": null,
   "metadata": {},
   "outputs": [],
   "source": [
    "tabla_preguntas = '''\n",
    "                CREATE TABLE IF NOT EXISTS preguntas (\n",
    "                    ID_pregunta SERIAL PRIMARY KEY,\n",
    "                    usuario VARCHAR(15) NOT NULL,\n",
    "                    contenido VARCHAR(255) NOT NULL,\n",
    "                    data_date TIMESTAMP DEFAULT CURRENT_TIMESTAMP \n",
    "                    activa boolean\n",
    "                )\n",
    "               '''"
   ]
  },
  {
   "cell_type": "code",
   "execution_count": null,
   "metadata": {},
   "outputs": [],
   "source": [
    "tabla_respuestas = '''\n",
    "                CREATE TABLE IF NOT EXISTS respuestas (\n",
    "                    ID_respuesta SERIAL PRIMARY KEY,\n",
    "                    contenido VARCHAR(255) NOT NULL,\n",
    "                    data_date TIMESTAMP DEFAULT CURRENT_TIMESTAMP \n",
    "                    ID_pregunta \n",
    "                )\n",
    "               '''"
   ]
  },
  {
   "cell_type": "code",
   "execution_count": null,
   "metadata": {},
   "outputs": [],
   "source": [
    "tabla_respuestas = '''\n",
    "                        ALTER TABLE respuestas\n",
    "                        ADD FOREIGN KEY (ID_pregunta) REFERENCES preguntas(ID_pregunta)\n",
    "                    '''"
   ]
  },
  {
   "cell_type": "code",
   "execution_count": null,
   "metadata": {},
   "outputs": [],
   "source": [
    "tabla_respuestas_usuarios = '''\n",
    "                -- Por si quisiéramos meter restricciones en las respuestas\n",
    "-- CREATE TYPE mood AS ENUM ('sad', 'ok', 'happy');\n",
    "-- CREATE TABLE person (\n",
    "--     name text,\n",
    "--     current_mood mood\n",
    "-- );\n",
    "\n",
    "CREATE TABLE IF NOT EXISTS respuestas_usuarios (\n",
    "                    ID_respuesta_usuario SERIAL PRIMARY KEY,\n",
    "                    direccion_ip VARCHAR(255),\n",
    "                    tipo_usuario VARCHAR(15),\n",
    "                    municipio VARCHAR(255), \n",
    "                    ccaa VARCHAR(255), /* lo sacamos con municipio */\n",
    "                    conocer_felgtbi VARCHAR(255), /* cómo ha conocido a la Federación */\n",
    "                    data_date TIMESTAMP DEFAULT CURRENT_TIMESTAMP,\n",
    "                    vih_usuario VARCHAR(15), /* si el usuario tiene vih */\n",
    "                    vih_diagnostico VARCHAR(15), /* tiempo de diagnóostico */\n",
    "                    vih_tratamiento VARCHAR(15), /* tiempo de tratamiento */\n",
    "                    us_edad INT,\n",
    "                    us_pais_origen VARCHAR(255),\n",
    "                    us_genero VARCHAR(255),\n",
    "                    us_orientacion VARCHAR(255),\n",
    "                    us_situacion_afectiva VARCHAR(255),\n",
    "                    us_hablado VARCHAR(15), /* si lo ha hablado con alguien de su entorno */\n",
    "                    pro_ambito VARCHAR(50),\n",
    "                    pro_especialidad VARCHAR(50),\n",
    "                    pro_vih_profesional BOOLEAN /* si ha tratado con algún otro paciente de vih */\n",
    "                )\n",
    "                )\n",
    "               '''"
   ]
  }
 ],
 "metadata": {
  "kernelspec": {
   "display_name": "Python 3",
   "language": "python",
   "name": "python3"
  },
  "language_info": {
   "codemirror_mode": {
    "name": "ipython",
    "version": 3
   },
   "file_extension": ".py",
   "mimetype": "text/x-python",
   "name": "python",
   "nbconvert_exporter": "python",
   "pygments_lexer": "ipython3",
   "version": "3.12.0"
  }
 },
 "nbformat": 4,
 "nbformat_minor": 2
}
