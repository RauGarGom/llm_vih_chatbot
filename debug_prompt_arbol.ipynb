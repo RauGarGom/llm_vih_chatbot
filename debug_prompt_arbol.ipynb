{
 "cells": [
  {
   "cell_type": "code",
   "execution_count": 1,
   "metadata": {},
   "outputs": [],
   "source": [
    "import model as md"
   ]
  },
  {
   "cell_type": "code",
   "execution_count": 2,
   "metadata": {},
   "outputs": [],
   "source": [
    "id_sesion = \"sesion_1733938452160\"\n",
    "user_input = \"si\"\n",
    "final = False\n"
   ]
  },
  {
   "cell_type": "code",
   "execution_count": null,
   "metadata": {},
   "outputs": [],
   "source": [
    "preguntas_limpias = md.diccionario_final_arbol(\"[1,4,7]\")\n",
    "resp, dict_preg_resp, final = md.model_arbol_interaction(id_sesion,preguntas_limpias,user_input,final)\n",
    "dict_preg_resp"
   ]
  },
  {
   "cell_type": "code",
   "execution_count": 3,
   "metadata": {},
   "outputs": [
    {
     "name": "stderr",
     "output_type": "stream",
     "text": [
      "c:\\Users\\raulg\\Documents\\THEBRIDGE_DS\\0.-Repo_Git\\llm_vih_chatbot\\model.py:291: UserWarning: pandas only supports SQLAlchemy connectable (engine/connection) or database string URI or sqlite3 DBAPI2 connection. Other DBAPI2 objects are not tested. Please consider using SQLAlchemy.\n",
      "  preguntas = pd.read_sql(query,conn)\n"
     ]
    },
    {
     "name": "stdout",
     "output_type": "stream",
     "text": [
      "<cursor object at 0x0000024B5C5D6880; closed: 0>\n",
      "Respuesta del modelo: Based on the information provided about the user, the list of filtered question IDs would be: [1, 4]\n",
      "\n",
      "The first question (ID 1) is relevant because it asks about how HIV is transmitted, which is useful information for someone who has HIV.\n",
      "\n",
      "The second question (ID 4) is relevant because it asks about the existence of PrEP (pre-exposure prophylaxis) as a method of prevention, which is important information for someone who has HIV to know.\n",
      "\n",
      "The third question (ID 5) is not included because it asks about the use of condoms, which is not relevant to someone who already has HIV.\n",
      "<cursor object at 0x0000024B5C766420; closed: 0>\n"
     ]
    },
    {
     "name": "stderr",
     "output_type": "stream",
     "text": [
      "c:\\Users\\raulg\\Documents\\THEBRIDGE_DS\\0.-Repo_Git\\llm_vih_chatbot\\model.py:291: UserWarning: pandas only supports SQLAlchemy connectable (engine/connection) or database string URI or sqlite3 DBAPI2 connection. Other DBAPI2 objects are not tested. Please consider using SQLAlchemy.\n",
      "  preguntas = pd.read_sql(query,conn)\n"
     ]
    },
    {
     "data": {
      "text/plain": [
       "{'Sabes como se transmite el vih?': ['No', 'Si'],\n",
       " 'Conoces la existencia de la PrEP (Profilaxis Preexposicion) como metodo de prevencion?': ['No',\n",
       "  'Si'],\n",
       " 'Consideras que existe estigma hacia las personas portadoras del vih?': ['No',\n",
       "  'Si']}"
      ]
     },
     "execution_count": 3,
     "metadata": {},
     "output_type": "execute_result"
    }
   ],
   "source": [
    "preguntas_limpias = md.llm_limpiador(id_sesion)\n",
    "preguntas_limpias"
   ]
  }
 ],
 "metadata": {
  "kernelspec": {
   "display_name": "Python 3",
   "language": "python",
   "name": "python3"
  },
  "language_info": {
   "codemirror_mode": {
    "name": "ipython",
    "version": 3
   },
   "file_extension": ".py",
   "mimetype": "text/x-python",
   "name": "python",
   "nbconvert_exporter": "python",
   "pygments_lexer": "ipython3",
   "version": "3.12.5"
  }
 },
 "nbformat": 4,
 "nbformat_minor": 2
}
