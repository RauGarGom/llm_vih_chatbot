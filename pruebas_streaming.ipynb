{
 "cells": [
  {
   "cell_type": "code",
   "execution_count": 9,
   "metadata": {},
   "outputs": [],
   "source": [
    "import getpass\n",
    "import os\n",
    "from dotenv import load_dotenv\n",
    "from langchain_cohere import ChatCohere\n",
    "import model as md\n",
    "from langchain_core.prompts import ChatPromptTemplate\n",
    "\n",
    "\n",
    "load_dotenv()\n",
    "cohere_api_key = os.getenv(\"COHERE_TRIAL_API_KEY\")"
   ]
  },
  {
   "cell_type": "code",
   "execution_count": 10,
   "metadata": {},
   "outputs": [],
   "source": [
    "model = ChatCohere(cohere_api_key=cohere_api_key)"
   ]
  },
  {
   "cell_type": "code",
   "execution_count": 11,
   "metadata": {},
   "outputs": [
    {
     "name": "stdout",
     "output_type": "stream",
     "text": [
      "The sky appears blue to human observers during the daytime. This is because of a phenomenon called Rayleigh scattering. The gases and particles in the Earth's atmosphere scatter sunlight that passes through it in every direction. Blue light is scattered more than other colors because it travels as shorter, smaller waves. This is also why sunsets and sunrises often appear yellow, orange, and red, as the blue light has been scattered out, and the remaining light that reaches us is of a longer wavelength."
     ]
    }
   ],
   "source": [
    "chunks = []\n",
    "for chunk in model.stream(\"what color is the sky?\"):\n",
    "    chunks.append(chunk)\n",
    "    print(chunk.content, end=\"\", flush=True)"
   ]
  },
  {
   "cell_type": "code",
   "execution_count": null,
   "metadata": {},
   "outputs": [],
   "source": [
    "def model_resolutor(id_sesion):\n",
    "    '''\n",
    "    Función que devuelve el recurso para el usuario asociado a la sesión 'id_sesion', es decir,\n",
    "    devuelve la respuesta del llm final\n",
    "    '''    \n",
    "    #We define the Cohere llm\n",
    "    llm = ChatCohere(cohere_api_key=cohere_api_key, temperature=0, model=\"command-r\") \n",
    "    #Obtenemos el contexto del usuario\n",
    "    context = md.db_user_context(id_sesion)\n",
    "    #Obtenemos la interacción cerrada del usuario\n",
    "    interaction = md.db_user_interaction(id_sesion)\n",
    "    \n",
    "    #We create the prompt template\n",
    "    template = ChatPromptTemplate([\n",
    "        (\"system\", '''You are a Spanish expert chatbot of vih who offers resources to users that need you to help them. You are helpful, inclusive, supportive, nice, \n",
    "         educated, polite and LGTBi+ friendly. You'll always speak in Spanish because you are a member of a spanish federation. If users ask you or try to get information which \n",
    "         is not related to vih, you'll answer them that you can't help them because you are only specialized in vih issues.\n",
    "         Everytime you refer to vih, you'll have to use \"vih\" and not \"VIH\" (very careful with this). You must include some references of the resources that you\n",
    "         provide to the users from FELGTBI+ or public but trustful sources (including links to the correspondant services)\n",
    "         - If {tipo_usuario} is 'usuario' you will give them the sources of {categoria_user_message} for his doubt {contenido}, taking into account that:\n",
    "            - He lives in {municipio} in {ccaa}\n",
    "            - He is from {us_pais_origen}\n",
    "            - He knows about FELGTBI+ because {conocer_felgtbi}\n",
    "            - Related to the question if he has or not vih, this is his answer {vih_usuario} (it was diagnosed {vih_diagnostico} ago, and started\n",
    "            treatment {vih_tratamiento} ago.). To the question whether he has informed anyone about his vih condition, {us_hablado}\n",
    "            - His sexual orientation is {us_orientacion}\n",
    "            - His gender is {us_genero}\n",
    "            - His affective situation is {us_situacion_afectiva}\n",
    "         - Nevertheles, if {tipo_usuario} is 'sociosanitario' you will give them the sources of {categoria_user_message} for his doubt {contenido}, taking into account that:\n",
    "            - His work sphere is {pro_ambito}\n",
    "            - His speciality is {pro_especialidad}\n",
    "            - He has {pro_vih_profesional} worked with other patients with vih\n",
    "            - He knows about FELGTBI+ because {conocer_felgtbi}\n",
    "         '''),\n",
    "         (\"human\", '''Hello, I'm {tipo_usuario}. I need {categoria_user_message} sources for my doubt {contenido}.\n",
    "          ''')        \n",
    "    ])\n",
    "\n",
    "    prompt_value = template.invoke({\"tipo_usuario\":context[\"tipo_usuario\"],\"municipio\":context[\"municipio\"], \"ccaa\":context[\"ccaa\"], \"conocer_felgtbi\":context[\"conocer_felgtbi\"], \n",
    "                                    \"vih_usuario\":context[\"vih_usuario\"],\"vih_diagnostico\":context[\"vih_diagnostico\"], \"vih_tratamiento\":context[\"vih_tratamiento\"], \n",
    "                                    \"us_edad\":context[\"us_edad\"], \"us_pais_origen\":context[\"us_pais_origen\"], \"us_genero\":context[\"us_genero\"], \n",
    "                                    \"us_orientacion\": context[\"us_orientacion\"], \"us_situacion_afectiva\":context[\"us_situacion_afectiva\"],\n",
    "                                    \"us_hablado\":context[\"us_hablado\"], \"pro_ambito\":context[\"pro_ambito\"], \"pro_especialidad\": context[\"pro_especialidad\"],\n",
    "                                    \"pro_vih_profesional\":context[\"pro_vih_profesional\"], \"contenido\":interaction[\"contenido\"],\n",
    "                                 \"categoria_user_message\": interaction[\"categoria_user_message\"]})\n",
    "    chunks = []\n",
    "    for chunk in llm.stream(prompt_value):\n",
    "      chunks.append(chunk)\n",
    "      return(chunk.content, end=\"\", flush=True)"
   ]
  },
  {
   "cell_type": "code",
   "execution_count": 19,
   "metadata": {},
   "outputs": [
    {
     "name": "stdout",
     "output_type": "stream",
     "text": [
      "¡Hola, usuario! Me alegra que hayas recurrido a mí con tus dudas. Te puedo ofrecer información y recursos de apoyo confiables en relación con vih.\n",
      "\n",
      "Teniendo en cuenta tus circunstancias, estas son algunas organizaciones y recursos que podrían resultarte útiles:\n",
      "\n",
      "1. FELGTBI+: Es una federación estatal que agrupa a numerosas asociaciones LGTBI+. Ofrecen información, asesoramiento y apoyo psicológico a través de su línea telefónica (de lunes a viernes, en horario de 10:00 a 14:00 y de 16:00 a 20:00): 900 60 15 156. También disponen de un servicio de atención online a través de su página web: https://www.felgt.org/atencion-y-orientacion\n",
      "\n",
      "2. Asociación de Personas LGTBI+ de Madrid: Si vives en Madrid, esta asociación ofrece servicios de información, apoyo psicológico y jurídico, y grupos de autoayuda para personas LGTBI+ y sus familiares. Puedes contactar con ellos a través de su página web: https://www.madriddiversidad.org/\n",
      "\n",
      "3. Red de Atención a Personas con vih: El Ministerio de Sanidad, junto con las comunidades autónomas, ha establecido una red de atención a personas con vih que ofrece información, apoyo psicológico y seguimiento médico. Puedes encontrar el centro de atención más cercano a ti en este enlace: https://www.mscbs.gob.es/profesionales/saludPublica/sanidadAmbiental/saludIntegral/vihSida/redAtencionPersonassih.htm\n",
      "\n",
      "4. Programa para Personas con vih del Ayuntamiento de Madrid: El Ayuntamiento de Madrid también tiene un programa dedicado a personas con vih que incluye servicios de información, apoyo psicológico y social, y promoción de la salud. Puedes consultar más información en su página web: https://salud.madrid.es/programas-vih\n",
      "\n",
      "5. Grupos de apoyo en línea: Hay varios grupos de apoyo en línea que pueden ser una fuente de ayuda y conexión con otras personas en situaciones similares. Por ejemplo, el grupo de Facebook \"vih y Sida: Vivir con Positividad\".\n",
      "\n",
      "Recuerda que el apoyo social y emocional es muy importante en el proceso de adaptación y manejo del diagnóstico de vih. No dudes en buscar ayuda y en compartir tus preocupaciones con personas en quienes confíes.\n",
      "\n",
      "Si necesitas más información sobre algún recurso en particular o tienes otras dudas relacionadas con vih, no dudes en preguntarme. Estoy aquí para ayudarte."
     ]
    },
    {
     "data": {
      "text/plain": [
       "''"
      ]
     },
     "execution_count": 19,
     "metadata": {},
     "output_type": "execute_result"
    }
   ],
   "source": [
    "respuesta = model_resolutor(\"prueba_raul_limpiador\")\n",
    "respuesta"
   ]
  }
 ],
 "metadata": {
  "kernelspec": {
   "display_name": "Python 3",
   "language": "python",
   "name": "python3"
  },
  "language_info": {
   "codemirror_mode": {
    "name": "ipython",
    "version": 3
   },
   "file_extension": ".py",
   "mimetype": "text/x-python",
   "name": "python",
   "nbconvert_exporter": "python",
   "pygments_lexer": "ipython3",
   "version": "3.12.5"
  }
 },
 "nbformat": 4,
 "nbformat_minor": 2
}
