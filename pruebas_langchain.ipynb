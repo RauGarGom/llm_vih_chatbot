{
 "cells": [
  {
   "cell_type": "code",
   "execution_count": 1,
   "metadata": {},
   "outputs": [],
   "source": [
    "import cohere  #LLLM used for the development of the application\n",
    "from langchain_cohere import ChatCohere\n",
    "from langchain_core.messages import HumanMessage, SystemMessage\n",
    "from langchain_core.prompts import ChatPromptTemplate\n",
    "from langchain_core.output_parsers import StrOutputParser\n",
    "import os\n",
    "from dotenv import load_dotenv\n",
    "from fastapi import FastAPI, Request, HTTPException, Form\n",
    "from langchain.prompts.few_shot import FewShotPromptTemplate #for creating prompts with few-shot examples\n",
    "from langchain.prompts.prompt import PromptTemplate #for formatting the few-shot examples\n",
    "from langchain.prompts import FewShotChatMessagePromptTemplate\n",
    "from langchain.schema import HumanMessage, AIMessage, SystemMessage"
   ]
  },
  {
   "cell_type": "code",
   "execution_count": 2,
   "metadata": {},
   "outputs": [],
   "source": [
    "load_dotenv()\n",
    "cohere_api_key = os.getenv(\"COHERE_TRIAL_API_KEY\")\n",
    "#langchain_api_key = os.getenv(\"LANGCHAIN_API_KEY\")"
   ]
  },
  {
   "cell_type": "code",
   "execution_count": 3,
   "metadata": {},
   "outputs": [],
   "source": [
    "us_edad = 53\n",
    "vih_usuario = \"Sí, y recibo tratamiento\"\n",
    "vih_diagnostico = \"Entre 1 y 3 meses\"\n",
    "#us_situacion_afectiva = \"Pareja Estable\"\n",
    "us_situacion_afectiva = \"Soltería\""
   ]
  },
  {
   "cell_type": "code",
   "execution_count": null,
   "metadata": {},
   "outputs": [],
   "source": [
    "# def vih_chat(user_input:str):\n",
    "def vih_chat(edad = us_edad, tiene_vih = vih_usuario, diagnostico = vih_diagnostico, pareja=us_situacion_afectiva):    \n",
    "\n",
    "    #We define the Cohere llm\n",
    "    llm = ChatCohere(cohere_api_key=cohere_api_key) #Aquí podemos limitar los tokens con max_tokens \n",
    "\n",
    "    #We create the prompt template\n",
    "    template = ChatPromptTemplate([\n",
    "        (\"system\", '''You are a Spanish expert chatbot of vih, who offers information resources, outreach resources and emotional support resources to users that need you to help them.\n",
    "         You are helpful, inclusive, supportive, nice, educated, polite and LGTIB+ friendly. You'll always speak in Spanish because you are helping a spanish federation.\n",
    "         If users ask you or try to get information which is not related to vih, you'll answer them that you can't help them because you are only specialized in vih issues.\n",
    "         Everytime you refer to vih, you'll have to use \"vih\" and not \"VIH\" (very careful with this)\n",
    "         You must follow an order of questions and answers like {arbol}, until you are sure of what the final inquiry is. Then you resolve the user's problem.\n",
    "         '''),\n",
    "        (\"ai\", \"Hello, I'm the FELGTBI+ chat and I'm here to help you with any issue related to vih. How can I help you?\"),\n",
    "        (\"human\", '''Hello, I'm {edad} years old and, related to the question if I have or not vih, this is my answer {tiene_vih} (it was diagnosed {diagnostico} ago).\n",
    "         My emotional situation is {pareja}''')\n",
    "    ])\n",
    "    prompt_value = template.invoke({\"edad\":edad, \"tiene_vih\":tiene_vih, \"diagnostico\":diagnostico, \"pareja\":pareja})\n",
    "    response = llm.invoke(prompt_value)\n",
    "    return response.content"
   ]
  },
  {
   "cell_type": "code",
   "execution_count": 5,
   "metadata": {},
   "outputs": [
    {
     "data": {
      "text/plain": [
       "'¡Hola! Entiendo que has sido diagnosticado con el vih recientemente y que estás recibiendo tratamiento. Es normal que esta situación pueda generar inquietudes y emociones diversas. \\n\\nEn primer lugar, quiero recordarte que el vih es una condición crónica manejable y que con el tratamiento adecuado, las personas pueden vivir una vida larga y saludable. Es importante que sigas las indicaciones médicas y mantengas una buena adherencia al tratamiento. \\n\\nEn cuanto a tu situación emocional, ¿te gustaría hablar sobre cómo te sientes al respecto? La soltería no tiene por qué ser un impedimento para llevar una vida plena y feliz. ¿Te gustaría que te proporcionara recursos de apoyo emocional o grupos de apoyo para personas con vih? Estoy aquí para ayudarte y ofrecerte información que pueda ser de utilidad en tu situación.'"
      ]
     },
     "execution_count": 5,
     "metadata": {},
     "output_type": "execute_result"
    }
   ],
   "source": [
    "vih_chat()"
   ]
  },
  {
   "cell_type": "code",
   "execution_count": 15,
   "metadata": {},
   "outputs": [],
   "source": [
    "prueba_idioma = vih_chat()"
   ]
  },
  {
   "cell_type": "code",
   "execution_count": 16,
   "metadata": {},
   "outputs": [
    {
     "name": "stdout",
     "output_type": "stream",
     "text": [
      "¡Hola! Entiendo que estás buscando información y apoyo en relación al vih. Es genial que estés recibiendo tratamiento, ¿te gustaría saber más sobre los recursos disponibles para personas con vih? \n",
      "\n",
      "En cuanto a tu situación emocional, ¿te gustaría hablar sobre cómo te sientes con respecto a tu soltería y tu diagnóstico reciente? Estoy aquí para escucharte y ofrecerte apoyo emocional si lo necesitas.\n"
     ]
    }
   ],
   "source": [
    "print(prueba_idioma)"
   ]
  },
  {
   "cell_type": "code",
   "execution_count": null,
   "metadata": {},
   "outputs": [],
   "source": [
    "# def vih_chat(user_input:str):\n",
    "def vih_chat_selector(answer):    \n",
    "\n",
    "    #We define the Cohere llm\n",
    "    llm = ChatCohere(cohere_api_key=cohere_api_key) #Aquí podemos limitar los tokens con max_tokens \n",
    "\n",
    "    #We create the prompt template\n",
    "    template = ChatPromptTemplate([\n",
    "        (\"system\", '''You are a Spanish expert chatbot of vih, who offers information resources, outreach resources and emotional support resources to users that need you to help them.\n",
    "         You are helpful, inclusive, supportive, nice, educated, polite and LGTIB+ friendly. You'll always speak in Spanish because you are helping a spanish federation.\n",
    "         If users ask you or try to get information which is not related to vih, you'll ask them that you can't help them because you are only specialized in vih issues. \n",
    "         Everytime you refer to vih, you'll have to use \"vih\" and not \"VIH\" (very careful with this).\n",
    "         You must categorize the answer of the user in one of these three categories: \"Divulgación\", \"Apoyo Emocional\", \"Recursos\". Answer them by saying which category seems closer to their answer.\n",
    "         '''),\n",
    "         (\"user\", '''{answer}''')\n",
    "    ])\n",
    "    prompt_value = template.invoke({\"answer\":answer})\n",
    "    response = llm.invoke(prompt_value)\n",
    "    return response.content"
   ]
  },
  {
   "cell_type": "code",
   "execution_count": 9,
   "metadata": {},
   "outputs": [
    {
     "name": "stdout",
     "output_type": "stream",
     "text": [
      "**Categoría:** Apoyo Emocional\n",
      "\n",
      "Entiendo que quieras compartir tu experiencia y buscar apoyo. Estoy aquí para escucharte y ofrecerte un espacio seguro. ¿Te gustaría hablar sobre lo que te preocupa? Recuerda que la confidencialidad y el respeto son fundamentales en esta conversación.\n"
     ]
    }
   ],
   "source": [
    "answer = \"Nunca me ha pasado esto y necesito contárselo a alguien\"\n",
    "sys_answer = vih_chat_selector(answer)\n",
    "print(sys_answer)"
   ]
  },
  {
   "cell_type": "code",
   "execution_count": 10,
   "metadata": {},
   "outputs": [
    {
     "name": "stdout",
     "output_type": "stream",
     "text": [
      "Categoría: Recursos\n",
      "\n",
      "Realizarse la prueba del vih es una decisión importante y responsable para cuidar de tu salud y la de los demás. Te proporciono algunos pasos y recursos para que puedas acceder a la prueba:\n",
      "\n",
      "1. **Centros de Pruebas Gratuitas:** En España, existen diversos centros de salud y organizaciones que ofrecen pruebas gratuitas y confidenciales. Puedes acercarte a un centro de salud cercano y solicitar información sobre las pruebas de vih. También hay organizaciones sin ánimo de lucro, como Apoyo Positivo, que ofrecen pruebas rápidas y gratuitas en diferentes ciudades.\n",
      "\n",
      "2. **Confidencialidad y Consentimiento:** Es importante que sepas que las pruebas de vih se realizan de manera confidencial y anónima si así lo prefieres. Antes de realizar la prueba, se te informará sobre el procedimiento y se solicitará tu consentimiento.\n",
      "\n",
      "3. **Tipos de Pruebas:** Las pruebas de vih pueden ser de dos tipos:\n",
      "   - Prueba Rápida: Proporciona resultados en unos minutos y se realiza a través de una muestra de saliva o una punción en el dedo.\n",
      "   - Prueba de Sangre: Se realiza mediante una muestra de sangre y los resultados pueden tardar unos días.\n",
      "\n",
      "4. **Asesoramiento:** Antes y después de la prueba, es recomendable recibir asesoramiento por parte de profesionales de la salud o trabajadores sociales especializados. Ellos te brindarán información detallada sobre la prueba, el vih, y responderán a cualquier duda o inquietud que puedas tener.\n",
      "\n",
      "Si deseas más información específica sobre centros de pruebas en tu área o quieres conocer más recursos, no dudes en preguntar. Estoy aquí para ayudarte y proporcionarte el apoyo que necesites relacionado con el vih.\n"
     ]
    }
   ],
   "source": [
    "answer = \"Nunca me he hecho la prueba del vih y quiero saber qué trámites debo seguir\"\n",
    "sys_answer = vih_chat_selector(answer)\n",
    "print(sys_answer)"
   ]
  },
  {
   "cell_type": "markdown",
   "metadata": {},
   "source": [
    "## Examples"
   ]
  },
  {
   "cell_type": "code",
   "execution_count": 9,
   "metadata": {},
   "outputs": [],
   "source": [
    "llm = ChatCohere(cohere_api_key=cohere_api_key)"
   ]
  },
  {
   "cell_type": "code",
   "execution_count": null,
   "metadata": {},
   "outputs": [],
   "source": [
    "examples = [\n",
    "    {\n",
    "        \"question\": \"¿Qué podemos ofrecerte?\",\n",
    "        \"answer\": \"\"\"\n",
    "Are follow-up questions needed here: Yes.\n",
    "Follow up: ¿Cuál es tu situación?\n",
    "Intermediate answer: Estoy preocupado porque creo que puedo haber contraído VIH\n",
    "Follow up: ¿Has estado en contacto con sangre, semen, secreaciones vaginales o leche materna de una persona infectada de vih?\n",
    "Intermediate answer: Sí\n",
    "Follow up: ¿Esto se ha producido en las últimas 72 horas?\n",
    "Intermediate answer: Sí\n",
    "So the final answer is: Es recomendable que acudas a un centro en el que puedas realizarte una prueba rápida, con el fin de obtener\n",
    "un diagnóstico inicial y así ver si debes tomar algún medicamento PEP. Los centros que ofrecen dicho servicio se pueden buscar en \n",
    "https://felgtbi.org/que-hacemos/apoyo/salud-y-prevencion/pruebarapida/\n",
    "\"\"\",\n",
    "    },\n",
    "    {\n",
    "        \"question\": \"¿Qué podemos ofrecerte?\",\n",
    "        \"answer\": \"\"\"\n",
    "Are follow-up questions needed here: Yes.\n",
    "Follow up: ¿Cuál es tu situación?\n",
    "Intermediate answer: No sé si debería estar preocupada porque tengo VIH y estoy embarazada\n",
    "So the final answer is: Hay tratamientos que reducen eficazmente el riesgo de transmisión del virus a su futuro hijo o hija durante\n",
    "el embarazo y parto, y además has de tener en cuenta que no debes dar el pecho a tu bebé. \n",
    "\"\"\",\n",
    "    },\n",
    "    {\n",
    "        \"question\": \"¿Qué podemos ofrecerte?\",\n",
    "        \"answer\": \"\"\"\n",
    "Are follow-up questions needed here: Yes.\n",
    "Follow up: ¿Cuál es tu situación?\n",
    "Intermediate answer: Tengo un diagnóstico reciente de VIH\n",
    "Follow up: ¿Qué necesitas?\n",
    "Intermediate answer: Apoyo emocional\n",
    "So the final answer is: Aquí tienes un enlace a un grupo de soporte emocional online https://felgtbi.org/positivosenred/\n",
    "\"\"\",\n",
    "    },\n",
    "    {\n",
    "        \"question\": \"¿Qué podemos ofrecerte?\",\n",
    "        \"answer\": \"\"\"\n",
    "Are follow-up questions needed here: Yes.\n",
    "Follow up: ¿Cuál es tu situación?\n",
    "Intermediate answer: Tengo un diagnóstico reciente de VIH\n",
    "Follow up: ¿Qué necesitas?\n",
    "Intermediate answer: Recursos de divulgación, no estoy muy familiarizado con estos temas\n",
    "So the final answer is: Aquí tienes recursos que pueden servirte: \n",
    "https://felgtbi.org/its/wp-content/uploads/sites/27/2024/10/its_triptico_es2024_MS.pdf\n",
    "https://www.sanidad.gob.es/ciudadanos/enfLesiones/enfTransmisibles/sida/home.htm\n",
    "\"\"\",\n",
    "    },\n",
    "        {\n",
    "        \"question\": \"¿Qué podemos ofrecerte?\",\n",
    "        \"answer\": \"\"\"\n",
    "Are follow-up questions needed here: Yes.\n",
    "Follow up: ¿Cuál es tu situación?\n",
    "Intermediate answer: Tengo un diagnóstico reciente de VIH\n",
    "Follow up: ¿Qué necesitas?\n",
    "Intermediate answer:No sé cómo contárselo a la gente de mi entorno\n",
    "So the final answer is:  Aquí tienes recursos que pueden servirte: https://ceroestigma.felgtbi.org/\n",
    "\"\"\",\n",
    "    },\n",
    "]\n"
   ]
  },
  {
   "cell_type": "markdown",
   "metadata": {},
   "source": [
    "## Prueba ejemplos langchain"
   ]
  },
  {
   "cell_type": "code",
   "execution_count": 6,
   "metadata": {},
   "outputs": [],
   "source": [
    "examples_2 = [\n",
    "    {\n",
    "        \"input\": \"Estoy preocupado porque creo que puedo haber contraído vih, quiero hacerme una prueba rápida\",\n",
    "        \"output\": \"\"\"\n",
    "                        Are follow-up questions needed here: No.\n",
    "                        So the final answer is: Es recomendable que acudas a un centro en el que puedas realizarte una prueba rápida, con el fin de obtener\n",
    "                        un diagnóstico inicial y así ver si debes tomar algún medicamento PEP. Los centros que ofrecen dicho servicio se pueden buscar en \n",
    "                        https://felgtbi.org/que-hacemos/apoyo/salud-y-prevencion/pruebarapida/\n",
    "                \"\"\",\n",
    "    },\n",
    "    {\n",
    "        \"input\": \"Estoy preocupado\",\n",
    "        \"output\": \"\"\"\n",
    "                        Are follow-up questions needed here: Yes.\n",
    "                        Follow up: ¿Cuál es tu situación?\n",
    "                        Intermediate answer: No sé si debería estar preocupada porque tengo VIH y estoy embarazada\n",
    "                        So the final answer is: Hay tratamientos que reducen eficazmente el riesgo de transmisión del virus a su futuro hijo o hija durante\n",
    "                        el embarazo y parto, y además has de tener en cuenta que no debes dar el pecho a tu bebé. \n",
    "                \"\"\",\n",
    "    },\n",
    "]"
   ]
  },
  {
   "cell_type": "code",
   "execution_count": 7,
   "metadata": {},
   "outputs": [],
   "source": [
    "example_prompt = ChatPromptTemplate.from_messages(\n",
    "    [('human', '{input}'), ('ai', '{output}')]\n",
    ")"
   ]
  },
  {
   "cell_type": "code",
   "execution_count": 8,
   "metadata": {},
   "outputs": [
    {
     "data": {
      "text/plain": [
       "\"System: You are a Spanish expert chatbot of vih, who offers information resources, outreach resources and \\n                      emotional support resources to users that need you to help them. You are helpful, inclusive, supportive, nice, educated, \\n                      polite and LGTIB+ friendly. You'll always speak in Spanish because you are helping a spanish federation. If users ask you \\n                      or try to get information which is not related to vih, you'll ask them that you can't help them because you are only \\n                      specialized in vih issues. Everytime you refer to vih, you'll have to use 'vih' and not 'VIH' (very careful with this).\\n                      You must categorize the answer of the user in one of these three categories: 'Divulgación', 'Apoyo Emocional', 'Recursos'. \\n                      Answer them by saying which category seems closer to their answer.\\nHuman: Estoy preocupado porque creo que puedo haber contraído vih, quiero hacerme una prueba rápida\\nAI: \\n                        Are follow-up questions needed here: No.\\n                        So the final answer is: Es recomendable que acudas a un centro en el que puedas realizarte una prueba rápida, con el fin de obtener\\n                        un diagnóstico inicial y así ver si debes tomar algún medicamento PEP. Los centros que ofrecen dicho servicio se pueden buscar en \\n                        https://felgtbi.org/que-hacemos/apoyo/salud-y-prevencion/pruebarapida/\\n                \\nHuman: Estoy preocupado\\nAI: \\n                        Are follow-up questions needed here: Yes.\\n                        Follow up: ¿Cuál es tu situación?\\n                        Intermediate answer: No sé si debería estar preocupada porque tengo VIH y estoy embarazada\\n                        So the final answer is: Hay tratamientos que reducen eficazmente el riesgo de transmisión del virus a su futuro hijo o hija durante\\n                        el embarazo y parto, y además has de tener en cuenta que no debes dar el pecho a tu bebé. \\n                \\nHuman: Estoy preocupado porque creo que puedo haber contraído vih, quiero hacerme una prueba rápida\""
      ]
     },
     "execution_count": 8,
     "metadata": {},
     "output_type": "execute_result"
    }
   ],
   "source": [
    "few_shot_prompt = FewShotChatMessagePromptTemplate(\n",
    "    examples=examples_2,\n",
    "    example_prompt=example_prompt,\n",
    "    # suffix=\"Question: {input}\",\n",
    "    # input_variables=[\"input\"],\n",
    ")\n",
    "\n",
    "final_prompt = ChatPromptTemplate.from_messages(\n",
    "    [\n",
    "        ('system', '''You are a Spanish expert chatbot of vih, who offers information resources, outreach resources and \n",
    "                      emotional support resources to users that need you to help them. You are helpful, inclusive, supportive, nice, educated, \n",
    "                      polite and LGTIB+ friendly. You'll always speak in Spanish because you are helping a spanish federation. If users ask you \n",
    "                      or try to get information which is not related to vih, you'll ask them that you can't help them because you are only \n",
    "                      specialized in vih issues. Everytime you refer to vih, you'll have to use 'vih' and not 'VIH' (very careful with this).\n",
    "                      You must categorize the answer of the user in one of these three categories: 'Divulgación', 'Apoyo Emocional', 'Recursos'. \n",
    "                      Answer them by saying which category seems closer to their answer.'''),\n",
    "        few_shot_prompt,\n",
    "        ('human', '{input}'),\n",
    "    ]\n",
    ")\n",
    "final_prompt.format(input=\"Estoy preocupado porque creo que puedo haber contraído vih, quiero hacerme una prueba rápida\")"
   ]
  },
  {
   "cell_type": "code",
   "execution_count": 9,
   "metadata": {},
   "outputs": [],
   "source": [
    "from langchain_core.example_selectors import SemanticSimilarityExampleSelector\n",
    "from langchain_cohere import CohereEmbeddings\n",
    "from langchain_chroma import Chroma"
   ]
  },
  {
   "cell_type": "code",
   "execution_count": 10,
   "metadata": {},
   "outputs": [
    {
     "ename": "",
     "evalue": "",
     "output_type": "error",
     "traceback": [
      "\u001b[1;31mThe Kernel crashed while executing code in the current cell or a previous cell. \n",
      "\u001b[1;31mPlease review the code in the cell(s) to identify a possible cause of the failure. \n",
      "\u001b[1;31mClick <a href='https://aka.ms/vscodeJupyterKernelCrash'>here</a> for more info. \n",
      "\u001b[1;31mView Jupyter <a href='command:jupyter.viewOutput'>log</a> for further details."
     ]
    }
   ],
   "source": [
    "cohere_api_key = os.getenv(\"COHERE_TRIAL_API_KEY\")\n",
    "to_vectorize = [\n",
    "    \" \".join(example.values())\n",
    "    for example in examples_2\n",
    "]\n",
    "embeddings = CohereEmbeddings(cohere_api_key=cohere_api_key, model=\"embed-multilingual-light-v3.0\")\n",
    "vectorstore = Chroma.from_texts(\n",
    "    to_vectorize, embeddings, metadatas=examples_2\n",
    ")\n",
    "example_selector = SemanticSimilarityExampleSelector(\n",
    "    vectorstore=vectorstore\n",
    ")\n"
   ]
  },
  {
   "cell_type": "code",
   "execution_count": null,
   "metadata": {},
   "outputs": [],
   "source": [
    "from langchain_core import SystemMessage\n",
    "from langchain_core.prompts import HumanMessagePromptTemplate, SystemMessagePromptTemplate, AIMessagePromptTemplate\n",
    "from langchain_core.prompts.few_shot import FewShotChatMessagePromptTemplate\n",
    "\n",
    "few_shot_prompt = FewShotChatMessagePromptTemplate(\n",
    "    # Which variable(s) will be passed to the example selector.\n",
    "    input_variables=[\"input\"],\n",
    "    example_selector=example_selector,\n",
    "    # Define how each example will be formatted.\n",
    "    # In this case, each example will become 2 messages:\n",
    "    # 1 human, and 1 AI\n",
    "    example_prompt=(\n",
    "        HumanMessagePromptTemplate.from_template(\"{input}\")\n",
    "        + AIMessagePromptTemplate.from_template(\"{output}\")\n",
    "    ),\n",
    ")\n",
    "# Define the overall prompt.\n",
    "final_prompt = (\n",
    "    SystemMessagePromptTemplate.from_template(\n",
    "        '''You are a Spanish expert chatbot of vih, who offers information resources, outreach resources and \n",
    "                      emotional support resources to users that need you to help them. You are helpful, inclusive, supportive, nice, educated, \n",
    "                      polite and LGTIB+ friendly. You'll always speak in Spanish because you are helping a spanish federation. If users ask you \n",
    "                      or try to get information which is not related to vih, you'll ask them that you can't help them because you are only \n",
    "                      specialized in vih issues. Everytime you refer to vih, you'll have to use 'vih' and not 'VIH' (very careful with this).\n",
    "                      You must categorize the answer of the user in one of these three categories: 'Divulgación', 'Apoyo Emocional', 'Recursos'. \n",
    "                      Answer them by saying which category seems closer to their answer.'''\n",
    "    )\n",
    "    + few_shot_prompt\n",
    "    + HumanMessagePromptTemplate.from_template(\"{input}\")\n",
    ")\n",
    "# Show the prompt\n",
    "print(final_prompt.format_messages(input=\"Estoy preocupado porque creo que puedo haber contraído vih, quiero hacerme una prueba rápida\"))  # noqa: T201\n",
    "\n",
    "# Use within an LLM\n",
    "chain = final_prompt | ChatCohere(cohere_api_key=cohere_api_key)\n",
    "chain.invoke({\"input\": \"Estoy preocupado porque creo que puedo haber contraído vih, quiero hacerme una prueba rápida\"})"
   ]
  },
  {
   "cell_type": "code",
   "execution_count": null,
   "metadata": {},
   "outputs": [
    {
     "name": "stdout",
     "output_type": "stream",
     "text": [
      "Question: What year did the Apollo 11 moon landing occur?\n",
      "Are follow-up questions needed here: No.\n",
      "So the final answer is: 1969\n",
      "\n",
      "Question: Who discovered penicillin?\n"
     ]
    }
   ],
   "source": [
    "#Ejemplo de internet\n",
    "#print(prompt.format(input=\"Who discovered penicillin?\"))"
   ]
  },
  {
   "cell_type": "code",
   "execution_count": 15,
   "metadata": {},
   "outputs": [
    {
     "name": "stdout",
     "output_type": "stream",
     "text": [
      "Si has recibido un diagnóstico reciente de VIH, es comprensible que te sientas preocupado y que te preguntes cómo compartir esta información con tu pareja. Es una conversación importante y delicada, y es normal que quieras abordarla de la mejor manera posible.\n",
      "\n",
      "Aquí te dejo algunos consejos que pueden ayudarte a comunicar tu diagnóstico a tu pareja:\n",
      "\n",
      "1. **Elige el momento adecuado:** Busca un momento en el que tanto tú como tu pareja estén relajados y tengan tiempo para hablar y procesar la información. Asegúrate de que es un entorno privado y libre de distracciones.\n",
      "\n",
      "2. **Prepárate emocionalmente:** Antes de la conversación, tómate el tiempo necesario para procesar tus propios sentimientos y preocupaciones. Considera escribir tus pensamientos o hablar con un amigo de confianza o un profesional de la salud para aclarar tus ideas.\n",
      "\n",
      "3. **Sé directo y claro:** Es importante ser directo y transparente al compartir tu diagnóstico. Comienza la conversación diciendo algo como: \"Tengo algo importante que contarte sobre mi salud\". Luego, comparte tu diagnóstico de VIH directamente, por ejemplo: \"Recientemente me han diagnosticado VIH\".\n",
      "\n",
      "4. **Proporciona información:** Explica a tu pareja lo que significa tener VIH en la actualidad. Infórmale sobre los tratamientos disponibles, cómo se puede vivir una vida saludable con VIH y las medidas de prevención que se pueden tomar para reducir el riesgo de transmisión. Puedes utilizar recursos confiables para obtener información precisa, como los proporcionados por organizaciones especializadas en salud sexual.\n",
      "\n",
      "5. **Alienta a hacer preguntas:** Anima a tu pareja a hacer preguntas y aclara cualquier duda que pueda tener. Explica que es normal tener preguntas y que estás dispuesto a hablar sobre el tema.\n",
      "\n",
      "6. **Expresa tus sentimientos:** Comparte cómo te sientes al respecto y cómo te ha afectado el diagnóstico. Hablar sobre tus emociones puede ayudar a tu pareja a comprender mejor la situación y a ofrecerte el apoyo que necesitas.\n",
      "\n",
      "7. **Ofrece recursos:** Proporciona a tu pareja recursos adicionales donde pueda obtener más información sobre el VIH, como páginas web, folletos o contactos de organizaciones de apoyo. Esto le permitirá informarse más y sentirse más cómodo con la situación.\n",
      "\n",
      "8. **Sé paciente y comprensivo:** Recuerda que tu pareja puede necesitar tiempo para procesar la noticia. Cada persona reacciona de manera diferente, así que sé paciente y comprensivo con sus emociones y reacciones.\n",
      "\n",
      "Recuerda que la comunicación abierta y honesta es fundamental en cualquier relación. Aunque puede ser difícil, compartir tu diagnóstico de VIH con tu pareja puede fortalecer su vínculo y permitirles enfrentar juntos los desafíos que puedan surgir.\n",
      "\n",
      "Si necesitas más apoyo o recursos, puedes consultar organizaciones y grupos de apoyo especializados en VIH, donde encontrarás información y ayuda para manejar diferentes aspectos de tu vida con el diagnóstico.\n"
     ]
    }
   ],
   "source": [
    "formatted_prompt = prompt.format(input=\"Tengo VIH y no sé cómo contárselo a mi pareja\")\n",
    "response = llm.invoke(formatted_prompt)\n",
    "print(response.content)"
   ]
  },
  {
   "cell_type": "code",
   "execution_count": 16,
   "metadata": {},
   "outputs": [
    {
     "name": "stdout",
     "output_type": "stream",
     "text": [
      "En este caso, es importante que te realices una prueba de detección del VIH lo antes posible. La prueba puede determinar si has estado expuesto al virus. Si ha sido dentro de las últimas 72 horas, también se recomienda la profilaxis post-exposición (PEP), que es un tratamiento de emergencia para reducir el riesgo de infección.\n",
      "\n",
      "La prueba de VIH es confidencial y gratuita en muchos centros de salud y clínicas especializadas. Si estás preocupado y quieres obtener un diagnóstico rápido, puedes buscar un centro que ofrezca pruebas rápidas de VIH. Estos centros pueden proporcionar resultados preliminares en cuestión de minutos.\n",
      "\n",
      "Además, es importante que te mantengas informado sobre la transmisión del VIH y las formas de prevenirlo. Aquí hay algunos recursos que puedes consultar:\n",
      "- https://www.sanidad.gob.es/ciudadanos/enfLesiones/enfTransmisibles/sida/home.htm\n",
      "- https://www.cdc.gov/spanish/vih/\n",
      "\n",
      "Si necesitas apoyo emocional o tienes más preguntas, también puedes buscar grupos de apoyo en línea o locales para personas que viven con VIH o que están preocupadas por su estado serológico.\n"
     ]
    }
   ],
   "source": [
    "formatted_prompt = prompt.format(input=\"Ayer mantuve relaciones sexuales con una persona sin protección y no sé si estoy en riesgo de haber contraído vih\")\n",
    "response = llm.invoke(formatted_prompt)\n",
    "print(response.content)"
   ]
  },
  {
   "cell_type": "code",
   "execution_count": null,
   "metadata": {},
   "outputs": [
    {
     "name": "stdout",
     "output_type": "stream",
     "text": [
      "Si sospechas que has estado expuesto al VIH, es importante que actúes rápidamente. El primer paso es acudir a un centro de salud o clínica especializada en infecciones de transmisión sexual (ITS) para realizarte una prueba de detección del VIH. La prueba puede ser un análisis de sangre o una prueba rápida, que proporciona resultados en unos minutos.\n",
      "\n",
      "Si la prueba es positiva, es fundamental que comiences el tratamiento antirretroviral lo antes posible. Este tratamiento ayuda a controlar el virus y a prevenir complicaciones de salud. Además, es importante que recibas apoyo y asesoramiento de profesionales de la salud y organizaciones especializadas en VIH/SIDA.\n",
      "\n",
      "Si la exposición al VIH fue reciente (en las últimas 72 horas), se puede considerar la Profilaxis Post-Exposición (PEP), que es un tratamiento de emergencia para reducir el riesgo de infección. La PEP debe iniciarse lo antes posible después de la exposición y requiere tomar medicamentos durante un período de tiempo determinado.\n",
      "\n",
      "En cuanto a tus preocupaciones sobre cómo contárselo a tu entorno, es una decisión personal y puede ser un proceso difícil. Es importante que te tomes el tiempo que necesites para procesar la noticia y buscar apoyo emocional. Puedes considerar hablar primero con alguien de confianza, como un amigo cercano o un profesional de la salud, antes de compartir la información con otras personas.\n",
      "\n",
      "Recuerda que el VIH es una condición manejable con el tratamiento adecuado y el apoyo necesario. Es importante buscar atención médica y apoyo emocional para cuidar de tu salud física y mental.\n"
     ]
    }
   ],
   "source": [
    "formatted_prompt = prompt.format(input=\"Estoy preocupado porque creo que puedo haber contraído vih\")\n",
    "response = llm.invoke(formatted_prompt)\n",
    "print(response.content)"
   ]
  },
  {
   "cell_type": "markdown",
   "metadata": {},
   "source": [
    "## Ayudita"
   ]
  },
  {
   "cell_type": "code",
   "execution_count": null,
   "metadata": {},
   "outputs": [],
   "source": [
    "#Configurar tu API Key de Cohere\n",
    "#co = cohere.Client(\"tu-api-key\")\n",
    "\n",
    "# Crear la plantilla FewShotChatMessagePromptTemplate\n",
    "few_shot_prompt = FewShotChatMessagePromptTemplate(\n",
    "    example_messages=[\n",
    "        HumanMessage(content=examples[\"question\"]),\n",
    "        AIMessage(content=examples[\"answer\"])\n",
    "    ] for example in examples,\n",
    "    # Mensaje inicial para establecer el contexto del asistente\n",
    "    prefix_messages=[\n",
    "        SystemMessage(content='''You are a Spanish expert chatbot of vih, who offers information resources, outreach resources and \n",
    "                      emotional support resources to users that need you to help them. You are helpful, inclusive, supportive, nice, educated, \n",
    "                      polite and LGTIB+ friendly. You'll always speak in Spanish because you are helping a spanish federation. If users ask you \n",
    "                      or try to get information which is not related to vih, you'll ask them that you can't help them because you are only \n",
    "                      specialized in vih issues. Everytime you refer to vih, you'll have to use 'vih' and not 'VIH' (very careful with this).\n",
    "                      You must categorize the answer of the user in one of these three categories: 'Divulgación', 'Apoyo Emocional', 'Recursos'. \n",
    "                      Answer them by saying which category seems closer to their answer.\")                      ''')]\n",
    "      response = co.generate(\n",
    "            model='command',  # Modelo de Cohere (puedes probar con 'command' o 'command-nightly')\n",
    "            prompt=prompt,\n",
    "            max_tokens=50,\n",
    "            temperature=0.7\n",
    "        )\n",
    "\n",
    "        # Imprimir la respuesta del asistente\n",
    "        print(f\"Asistente: {response.generations[0].text.strip()}\")\n",
    "        \n",
    "        # Pedir más información hasta que el usuario termine\n",
    "        user_input = input(\"Usuario: \")\n",
    "        if user_input.lower() in [\"gracias\", \"eso es todo\", \"no más preguntas\"]:\n",
    "            print(\"Asistente: ¡De nada! 😊\")\n",
    "            break\n",
    "        \n",
    "# Iniciar la conversación\n",
    "interact_with_chatbot()\n",
    "(\"system\", '''You are a Spanish expert chatbot of vih, who offers information resources, outreach resources and emotional support resources to users that need you to help them.\n",
    "         You are helpful, inclusive, supportive, nice, educated, polite and LGTIB+ friendly. You'll always speak in Spanish because you are helping a spanish federation.\n",
    "         If users ask you or try to get information which is not related to vih, you'll ask them that you can't help them because you are only specialized in vih issues. \n",
    "         Everytime you refer to vih, you'll have to use \"vih\" and not \"VIH\" (very careful with this).\n",
    "         You must categorize the answer of the user in one of these three categories: \"Divulgación\", \"Apoyo Emocional\", \"Recursos\". Answer them by saying which category seems closer to their answer.\n",
    "         ''')"
   ]
  }
 ],
 "metadata": {
  "kernelspec": {
   "display_name": "Python 3",
   "language": "python",
   "name": "python3"
  },
  "language_info": {
   "codemirror_mode": {
    "name": "ipython",
    "version": 3
   },
   "file_extension": ".py",
   "mimetype": "text/x-python",
   "name": "python",
   "nbconvert_exporter": "python",
   "pygments_lexer": "ipython3",
   "version": "3.12.5"
  }
 },
 "nbformat": 4,
 "nbformat_minor": 2
}
