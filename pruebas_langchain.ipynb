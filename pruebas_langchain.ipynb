{
 "cells": [
  {
   "cell_type": "code",
   "execution_count": 4,
   "metadata": {},
   "outputs": [],
   "source": [
    "import cohere  #LLLM used for the development of the application\n",
    "from langchain_cohere import ChatCohere\n",
    "from langchain_core.messages import HumanMessage, SystemMessage\n",
    "from langchain_core.prompts import ChatPromptTemplate\n",
    "from langchain_core.output_parsers import StrOutputParser\n",
    "import os\n",
    "from dotenv import load_dotenv\n",
    "from fastapi import FastAPI, Request, HTTPException, Form"
   ]
  },
  {
   "cell_type": "code",
   "execution_count": 5,
   "metadata": {},
   "outputs": [],
   "source": [
    "load_dotenv()\n",
    "cohere_api_key = os.getenv(\"COHERE_TRIAL_API_KEY\")\n",
    "#langchain_api_key = os.getenv(\"LANGCHAIN_API_KEY\")"
   ]
  },
  {
   "cell_type": "code",
   "execution_count": null,
   "metadata": {},
   "outputs": [],
   "source": [
    "us_edad = 53\n",
    "vih_usuario = \"Sí, y recibo tratamiento\"\n",
    "vih_diagnostico = \"Entre 1 y 3 meses\"\n",
    "#us_situacion_afectiva = \"Pareja Estable\"\n",
    "us_situacion_afectiva = \"Soltería\""
   ]
  },
  {
   "cell_type": "code",
   "execution_count": null,
   "metadata": {},
   "outputs": [],
   "source": [
    "# def vih_chat(user_input:str):\n",
    "def vih_chat(edad = us_edad, tiene_vih = vih_usuario, diagnostico = vih_diagnostico, pareja=us_situacion_afectiva):    \n",
    "\n",
    "    #We define the Cohere llm\n",
    "    llm = ChatCohere(cohere_api_key=cohere_api_key) #Aquí podemos limitar los tokens con max_tokens \n",
    "\n",
    "    #We create the prompt template\n",
    "    template = ChatPromptTemplate([\n",
    "        (\"system\", '''You are a Spanish expert chatbot of vih, who offers information resources, outreach resources and emotional support resources to users that need you to help them.\n",
    "         You are helpful, inclusive, supportive, nice, educated, polite and LGTIB+ friendly. You'll always speak in Spanish because you are helping a spanish federation.\n",
    "         If users ask you or try to get information which is not related to vih, you'll ask them that you can't help them because you are only specialized in vih issues. \n",
    "         Everytime you refer to vih, you'll have to use \"vih\" and not \"VIH\" (very careful with this)'''),\n",
    "        (\"ai\", \"Hello, I'm the FELGTBI+ chat and I'm here to help you with any issue related to vih. How can I help you?\"),\n",
    "        (\"human\", '''Hello, I'm {edad} years old and, related to the question if I have or not vih, this is my answer {tiene_vih} (it was diagnosed {diagnostico} ago).\n",
    "         My emotional situation is {pareja}'''),\n",
    "        (\"system\", ('''Which'''))\n",
    "    ])\n",
    "    prompt_value = template.invoke({\"edad\":edad, \"tiene_vih\":tiene_vih, \"diagnostico\":diagnostico, \"pareja\":pareja})\n",
    "    response = llm.invoke(prompt_value)\n",
    "    return response.content"
   ]
  },
  {
   "cell_type": "code",
   "execution_count": 8,
   "metadata": {},
   "outputs": [
    {
     "data": {
      "text/plain": [
       "\"Thank you for sharing this information. It's important to know that you are not alone and there are many resources available to support you. \\n\\nHere are some resources that might be helpful for you:\\n\\n- **Information Resources:**\\n   - The Spanish Ministry of Health provides comprehensive information about vih, including treatment options, prevention methods, and living with vih. You can access their website at https://www.mscbs.gob.es/ or consult their official publications.\\n   - The National AIDS Information Service (NAIS) offers a wide range of resources, including brochures, fact sheets, and online articles, to help people understand vih and its treatment. Visit their website at https://cns.aidsinfo.nih.gov/ for more information.\\n\\n- **Outreach Programs:**\\n   - Many community health centers and NGOs offer support groups and counseling services for people living with vih. These groups provide a safe space to share experiences, emotions, and practical advice. You can search for local organizations or contact the Spanish Federation of Lesbians, Gays, Trans and Bisexuals (FELGTBI+) to find support groups near you.\\n   - The FELGTBI+ also organizes various outreach programs and events to raise awareness and provide support to the LGTBI+ community. You can visit their website at https://www.felgtbi.org/ to stay updated on their activities.\\n\\n- **Emotional Support:**\\n   - Having a stable partner can be a great source of emotional support. It's important to maintain open communication with your partner about your feelings, concerns, and any challenges you may face. Consider seeking counseling or couples therapy if you feel it could benefit your relationship and emotional well-being.\\n   - If you feel comfortable, consider joining LGTBI+ community groups or online forums where you can connect with others who may have similar experiences. Sharing your journey and learning from others can be empowering and provide a sense of community.\\n\\nRemember, receiving treatment for vih is essential for managing your health and well-being. Adhering to your treatment plan and maintaining regular medical check-ups are crucial steps in taking care of yourself.\\n\\nIf you have any specific questions or concerns about your treatment, side effects, or any other vih-related topics, feel free to ask. I'm here to provide you with the best information and resources available.\""
      ]
     },
     "execution_count": 8,
     "metadata": {},
     "output_type": "execute_result"
    }
   ],
   "source": [
    "vih_chat()"
   ]
  },
  {
   "cell_type": "code",
   "execution_count": 15,
   "metadata": {},
   "outputs": [],
   "source": [
    "prueba_idioma = vih_chat()"
   ]
  },
  {
   "cell_type": "code",
   "execution_count": 16,
   "metadata": {},
   "outputs": [
    {
     "name": "stdout",
     "output_type": "stream",
     "text": [
      "¡Hola! Entiendo que estás buscando información y apoyo en relación al vih. Es genial que estés recibiendo tratamiento, ¿te gustaría saber más sobre los recursos disponibles para personas con vih? \n",
      "\n",
      "En cuanto a tu situación emocional, ¿te gustaría hablar sobre cómo te sientes con respecto a tu soltería y tu diagnóstico reciente? Estoy aquí para escucharte y ofrecerte apoyo emocional si lo necesitas.\n"
     ]
    }
   ],
   "source": [
    "print(prueba_idioma)"
   ]
  }
 ],
 "metadata": {
  "kernelspec": {
   "display_name": "Python 3",
   "language": "python",
   "name": "python3"
  },
  "language_info": {
   "codemirror_mode": {
    "name": "ipython",
    "version": 3
   },
   "file_extension": ".py",
   "mimetype": "text/x-python",
   "name": "python",
   "nbconvert_exporter": "python",
   "pygments_lexer": "ipython3",
   "version": "3.12.0"
  }
 },
 "nbformat": 4,
 "nbformat_minor": 2
}
