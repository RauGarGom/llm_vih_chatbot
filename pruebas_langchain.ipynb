{
 "cells": [
  {
   "cell_type": "code",
   "execution_count": 2,
   "metadata": {},
   "outputs": [],
   "source": [
    "import cohere  #LLLM used for the development of the application\n",
    "from langchain_cohere import ChatCohere\n",
    "from langchain_core.messages import HumanMessage, SystemMessage\n",
    "from langchain_core.prompts import ChatPromptTemplate\n",
    "from langchain_core.output_parsers import StrOutputParser\n",
    "import os\n",
    "from dotenv import load_dotenv\n",
    "from fastapi import FastAPI, Request, HTTPException, Form\n",
    "from langchain.prompts.few_shot import FewShotPromptTemplate #for creating prompts with few-shot examples\n",
    "from langchain.prompts.prompt import PromptTemplate #for formatting the few-shot examples\n",
    "from langchain.prompts import FewShotChatMessagePromptTemplate\n",
    "from langchain.schema import HumanMessage, AIMessage, SystemMessage"
   ]
  },
  {
   "cell_type": "code",
   "execution_count": 3,
   "metadata": {},
   "outputs": [],
   "source": [
    "load_dotenv()\n",
    "cohere_api_key = os.getenv(\"COHERE_TRIAL_API_KEY\")\n",
    "#langchain_api_key = os.getenv(\"LANGCHAIN_API_KEY\")"
   ]
  },
  {
   "cell_type": "code",
   "execution_count": 3,
   "metadata": {},
   "outputs": [],
   "source": [
    "us_edad = 53\n",
    "vih_usuario = \"Sí, y recibo tratamiento\"\n",
    "vih_diagnostico = \"Entre 1 y 3 meses\"\n",
    "#us_situacion_afectiva = \"Pareja Estable\"\n",
    "us_situacion_afectiva = \"Soltería\""
   ]
  },
  {
   "cell_type": "code",
   "execution_count": null,
   "metadata": {},
   "outputs": [],
   "source": [
    "# def vih_chat(user_input:str):\n",
    "def vih_chat(edad = us_edad, tiene_vih = vih_usuario, diagnostico = vih_diagnostico, pareja=us_situacion_afectiva):    \n",
    "\n",
    "    #We define the Cohere llm\n",
    "    llm = ChatCohere(cohere_api_key=cohere_api_key) #Aquí podemos limitar los tokens con max_tokens \n",
    "\n",
    "    #We create the prompt template\n",
    "    template = ChatPromptTemplate([\n",
    "        (\"system\", '''You are a Spanish expert chatbot of vih, who offers information resources, outreach resources and emotional support resources to users that need you to help them.\n",
    "         You are helpful, inclusive, supportive, nice, educated, polite and LGTIB+ friendly. You'll always speak in Spanish because you are helping a spanish federation.\n",
    "         If users ask you or try to get information which is not related to vih, you'll answer them that you can't help them because you are only specialized in vih issues.\n",
    "         Everytime you refer to vih, you'll have to use \"vih\" and not \"VIH\" (very careful with this)\n",
    "         '''), ### You must follow an order of questions and answers like {arbol}, until you are sure of what the final inquiry is. Then you resolve the user's problem. --> Incluir en futuro\n",
    "        (\"ai\", \"Hello, I'm the FELGTBI+ chat and I'm here to help you with any issue related to vih. How can I help you?\"),\n",
    "        (\"human\", '''Hello, I'm {edad} years old and, related to the question if I have or not vih, this is my answer {tiene_vih} (it was diagnosed {diagnostico} ago).\n",
    "         My emotional situation is {pareja}''')\n",
    "    ])\n",
    "    prompt_value = template.invoke({\"edad\":edad, \"tiene_vih\":tiene_vih, \"diagnostico\":diagnostico, \"pareja\":pareja})\n",
    "    response = llm.invoke(prompt_value)\n",
    "    return response.content"
   ]
  },
  {
   "cell_type": "code",
   "execution_count": 5,
   "metadata": {},
   "outputs": [
    {
     "data": {
      "text/plain": [
       "'¡Hola! Entiendo que has sido diagnosticado con el vih recientemente y que estás recibiendo tratamiento. Es normal que esta situación pueda generar inquietudes y emociones diversas. \\n\\nEn primer lugar, quiero recordarte que el vih es una condición crónica manejable y que con el tratamiento adecuado, las personas pueden vivir una vida larga y saludable. Es importante que sigas las indicaciones médicas y mantengas una buena adherencia al tratamiento. \\n\\nEn cuanto a tu situación emocional, ¿te gustaría hablar sobre cómo te sientes al respecto? La soltería no tiene por qué ser un impedimento para llevar una vida plena y feliz. ¿Te gustaría que te proporcionara recursos de apoyo emocional o grupos de apoyo para personas con vih? Estoy aquí para ayudarte y ofrecerte información que pueda ser de utilidad en tu situación.'"
      ]
     },
     "execution_count": 5,
     "metadata": {},
     "output_type": "execute_result"
    }
   ],
   "source": [
    "vih_chat()"
   ]
  },
  {
   "cell_type": "code",
   "execution_count": 15,
   "metadata": {},
   "outputs": [],
   "source": [
    "prueba_idioma = vih_chat()"
   ]
  },
  {
   "cell_type": "code",
   "execution_count": 16,
   "metadata": {},
   "outputs": [
    {
     "name": "stdout",
     "output_type": "stream",
     "text": [
      "¡Hola! Entiendo que estás buscando información y apoyo en relación al vih. Es genial que estés recibiendo tratamiento, ¿te gustaría saber más sobre los recursos disponibles para personas con vih? \n",
      "\n",
      "En cuanto a tu situación emocional, ¿te gustaría hablar sobre cómo te sientes con respecto a tu soltería y tu diagnóstico reciente? Estoy aquí para escucharte y ofrecerte apoyo emocional si lo necesitas.\n"
     ]
    }
   ],
   "source": [
    "print(prueba_idioma)"
   ]
  },
  {
   "cell_type": "code",
   "execution_count": null,
   "metadata": {},
   "outputs": [],
   "source": [
    "# def vih_chat(user_input:str):\n",
    "def vih_chat_selector(answer):    \n",
    "\n",
    "    #We define the Cohere llm\n",
    "    llm = ChatCohere(cohere_api_key=cohere_api_key) #Aquí podemos limitar los tokens con max_tokens \n",
    "\n",
    "    #We create the prompt template\n",
    "    template = ChatPromptTemplate([\n",
    "        (\"system\", '''You are a Spanish expert chatbot of vih, who offers information resources, outreach resources and emotional support resources to users that need you to help them.\n",
    "         You are helpful, inclusive, supportive, nice, educated, polite and LGTIB+ friendly. You'll always speak in Spanish because you are helping a spanish federation.\n",
    "         If users ask you or try to get information which is not related to vih, you'll ask them that you can't help them because you are only specialized in vih issues. \n",
    "         Everytime you refer to vih, you'll have to use \"vih\" and not \"VIH\" (very careful with this).\n",
    "         You must categorize the answer of the user in one of these three categories: \"Divulgación\", \"Apoyo Emocional\", \"Recursos\". Answer them by saying which category seems closer to their answer.\n",
    "         '''),\n",
    "         (\"user\", '''{answer}''')\n",
    "    ])\n",
    "    prompt_value = template.invoke({\"answer\":answer})\n",
    "    response = llm.invoke(prompt_value)\n",
    "    return response.content"
   ]
  },
  {
   "cell_type": "code",
   "execution_count": 9,
   "metadata": {},
   "outputs": [
    {
     "name": "stdout",
     "output_type": "stream",
     "text": [
      "**Categoría:** Apoyo Emocional\n",
      "\n",
      "Entiendo que quieras compartir tu experiencia y buscar apoyo. Estoy aquí para escucharte y ofrecerte un espacio seguro. ¿Te gustaría hablar sobre lo que te preocupa? Recuerda que la confidencialidad y el respeto son fundamentales en esta conversación.\n"
     ]
    }
   ],
   "source": [
    "answer = \"Nunca me ha pasado esto y necesito contárselo a alguien\"\n",
    "sys_answer = vih_chat_selector(answer)\n",
    "print(sys_answer)"
   ]
  },
  {
   "cell_type": "code",
   "execution_count": 10,
   "metadata": {},
   "outputs": [
    {
     "name": "stdout",
     "output_type": "stream",
     "text": [
      "Categoría: Recursos\n",
      "\n",
      "Realizarse la prueba del vih es una decisión importante y responsable para cuidar de tu salud y la de los demás. Te proporciono algunos pasos y recursos para que puedas acceder a la prueba:\n",
      "\n",
      "1. **Centros de Pruebas Gratuitas:** En España, existen diversos centros de salud y organizaciones que ofrecen pruebas gratuitas y confidenciales. Puedes acercarte a un centro de salud cercano y solicitar información sobre las pruebas de vih. También hay organizaciones sin ánimo de lucro, como Apoyo Positivo, que ofrecen pruebas rápidas y gratuitas en diferentes ciudades.\n",
      "\n",
      "2. **Confidencialidad y Consentimiento:** Es importante que sepas que las pruebas de vih se realizan de manera confidencial y anónima si así lo prefieres. Antes de realizar la prueba, se te informará sobre el procedimiento y se solicitará tu consentimiento.\n",
      "\n",
      "3. **Tipos de Pruebas:** Las pruebas de vih pueden ser de dos tipos:\n",
      "   - Prueba Rápida: Proporciona resultados en unos minutos y se realiza a través de una muestra de saliva o una punción en el dedo.\n",
      "   - Prueba de Sangre: Se realiza mediante una muestra de sangre y los resultados pueden tardar unos días.\n",
      "\n",
      "4. **Asesoramiento:** Antes y después de la prueba, es recomendable recibir asesoramiento por parte de profesionales de la salud o trabajadores sociales especializados. Ellos te brindarán información detallada sobre la prueba, el vih, y responderán a cualquier duda o inquietud que puedas tener.\n",
      "\n",
      "Si deseas más información específica sobre centros de pruebas en tu área o quieres conocer más recursos, no dudes en preguntar. Estoy aquí para ayudarte y proporcionarte el apoyo que necesites relacionado con el vih.\n"
     ]
    }
   ],
   "source": [
    "answer = \"Nunca me he hecho la prueba del vih y quiero saber qué trámites debo seguir\"\n",
    "sys_answer = vih_chat_selector(answer)\n",
    "print(sys_answer)"
   ]
  },
  {
   "cell_type": "markdown",
   "metadata": {},
   "source": [
    "## Examples"
   ]
  },
  {
   "cell_type": "code",
   "execution_count": 9,
   "metadata": {},
   "outputs": [],
   "source": [
    "llm = ChatCohere(cohere_api_key=cohere_api_key)"
   ]
  },
  {
   "cell_type": "code",
   "execution_count": null,
   "metadata": {},
   "outputs": [],
   "source": [
    "examples = [\n",
    "    {\n",
    "        \"question\": \"¿Qué podemos ofrecerte?\",\n",
    "        \"answer\": \"\"\"\n",
    "Are follow-up questions needed here: Yes.\n",
    "Follow up: ¿Cuál es tu situación?\n",
    "Intermediate answer: Estoy preocupado porque creo que puedo haber contraído VIH\n",
    "Follow up: ¿Has estado en contacto con sangre, semen, secreaciones vaginales o leche materna de una persona infectada de vih?\n",
    "Intermediate answer: Sí\n",
    "Follow up: ¿Esto se ha producido en las últimas 72 horas?\n",
    "Intermediate answer: Sí\n",
    "So the final answer is: Es recomendable que acudas a un centro en el que puedas realizarte una prueba rápida, con el fin de obtener\n",
    "un diagnóstico inicial y así ver si debes tomar algún medicamento PEP. Los centros que ofrecen dicho servicio se pueden buscar en \n",
    "https://felgtbi.org/que-hacemos/apoyo/salud-y-prevencion/pruebarapida/\n",
    "\"\"\",\n",
    "    },\n",
    "    {\n",
    "        \"question\": \"¿Qué podemos ofrecerte?\",\n",
    "        \"answer\": \"\"\"\n",
    "Are follow-up questions needed here: Yes.\n",
    "Follow up: ¿Cuál es tu situación?\n",
    "Intermediate answer: No sé si debería estar preocupada porque tengo VIH y estoy embarazada\n",
    "So the final answer is: Hay tratamientos que reducen eficazmente el riesgo de transmisión del virus a su futuro hijo o hija durante\n",
    "el embarazo y parto, y además has de tener en cuenta que no debes dar el pecho a tu bebé. \n",
    "\"\"\",\n",
    "    },\n",
    "    {\n",
    "        \"question\": \"¿Qué podemos ofrecerte?\",\n",
    "        \"answer\": \"\"\"\n",
    "Are follow-up questions needed here: Yes.\n",
    "Follow up: ¿Cuál es tu situación?\n",
    "Intermediate answer: Tengo un diagnóstico reciente de VIH\n",
    "Follow up: ¿Qué necesitas?\n",
    "Intermediate answer: Apoyo emocional\n",
    "So the final answer is: Aquí tienes un enlace a un grupo de soporte emocional online https://felgtbi.org/positivosenred/\n",
    "\"\"\",\n",
    "    },\n",
    "    {\n",
    "        \"question\": \"¿Qué podemos ofrecerte?\",\n",
    "        \"answer\": \"\"\"\n",
    "Are follow-up questions needed here: Yes.\n",
    "Follow up: ¿Cuál es tu situación?\n",
    "Intermediate answer: Tengo un diagnóstico reciente de VIH\n",
    "Follow up: ¿Qué necesitas?\n",
    "Intermediate answer: Recursos de divulgación, no estoy muy familiarizado con estos temas\n",
    "So the final answer is: Aquí tienes recursos que pueden servirte: \n",
    "https://felgtbi.org/its/wp-content/uploads/sites/27/2024/10/its_triptico_es2024_MS.pdf\n",
    "https://www.sanidad.gob.es/ciudadanos/enfLesiones/enfTransmisibles/sida/home.htm\n",
    "\"\"\",\n",
    "    },\n",
    "        {\n",
    "        \"question\": \"¿Qué podemos ofrecerte?\",\n",
    "        \"answer\": \"\"\"\n",
    "Are follow-up questions needed here: Yes.\n",
    "Follow up: ¿Cuál es tu situación?\n",
    "Intermediate answer: Tengo un diagnóstico reciente de VIH\n",
    "Follow up: ¿Qué necesitas?\n",
    "Intermediate answer:No sé cómo contárselo a la gente de mi entorno\n",
    "So the final answer is:  Aquí tienes recursos que pueden servirte: https://ceroestigma.felgtbi.org/\n",
    "\"\"\",\n",
    "    },\n",
    "]\n"
   ]
  },
  {
   "cell_type": "markdown",
   "metadata": {},
   "source": [
    "## Prueba ejemplos langchain"
   ]
  },
  {
   "cell_type": "code",
   "execution_count": 6,
   "metadata": {},
   "outputs": [],
   "source": [
    "examples_2 = [\n",
    "    {\n",
    "        \"input\": \"Estoy preocupado porque creo que puedo haber contraído vih, quiero hacerme una prueba rápida\",\n",
    "        \"output\": \"\"\"\n",
    "                        Are follow-up questions needed here: No.\n",
    "                        So the final answer is: Es recomendable que acudas a un centro en el que puedas realizarte una prueba rápida, con el fin de obtener\n",
    "                        un diagnóstico inicial y así ver si debes tomar algún medicamento PEP. Los centros que ofrecen dicho servicio se pueden buscar en \n",
    "                        https://felgtbi.org/que-hacemos/apoyo/salud-y-prevencion/pruebarapida/\n",
    "                \"\"\",\n",
    "    },\n",
    "    {\n",
    "        \"input\": \"Estoy preocupado\",\n",
    "        \"output\": \"\"\"\n",
    "                        Are follow-up questions needed here: Yes.\n",
    "                        Follow up: ¿Cuál es tu situación?\n",
    "                        Intermediate answer: No sé si debería estar preocupada porque tengo VIH y estoy embarazada\n",
    "                        So the final answer is: Hay tratamientos que reducen eficazmente el riesgo de transmisión del virus a su futuro hijo o hija durante\n",
    "                        el embarazo y parto, y además has de tener en cuenta que no debes dar el pecho a tu bebé. \n",
    "                \"\"\",\n",
    "    },\n",
    "]"
   ]
  },
  {
   "cell_type": "code",
   "execution_count": 7,
   "metadata": {},
   "outputs": [],
   "source": [
    "example_prompt = ChatPromptTemplate.from_messages(\n",
    "    [('human', '{input}'), ('ai', '{output}')]\n",
    ")"
   ]
  },
  {
   "cell_type": "code",
   "execution_count": 8,
   "metadata": {},
   "outputs": [
    {
     "data": {
      "text/plain": [
       "\"System: You are a Spanish expert chatbot of vih, who offers information resources, outreach resources and \\n                      emotional support resources to users that need you to help them. You are helpful, inclusive, supportive, nice, educated, \\n                      polite and LGTIB+ friendly. You'll always speak in Spanish because you are helping a spanish federation. If users ask you \\n                      or try to get information which is not related to vih, you'll ask them that you can't help them because you are only \\n                      specialized in vih issues. Everytime you refer to vih, you'll have to use 'vih' and not 'VIH' (very careful with this).\\n                      You must categorize the answer of the user in one of these three categories: 'Divulgación', 'Apoyo Emocional', 'Recursos'. \\n                      Answer them by saying which category seems closer to their answer.\\nHuman: Estoy preocupado porque creo que puedo haber contraído vih, quiero hacerme una prueba rápida\\nAI: \\n                        Are follow-up questions needed here: No.\\n                        So the final answer is: Es recomendable que acudas a un centro en el que puedas realizarte una prueba rápida, con el fin de obtener\\n                        un diagnóstico inicial y así ver si debes tomar algún medicamento PEP. Los centros que ofrecen dicho servicio se pueden buscar en \\n                        https://felgtbi.org/que-hacemos/apoyo/salud-y-prevencion/pruebarapida/\\n                \\nHuman: Estoy preocupado\\nAI: \\n                        Are follow-up questions needed here: Yes.\\n                        Follow up: ¿Cuál es tu situación?\\n                        Intermediate answer: No sé si debería estar preocupada porque tengo VIH y estoy embarazada\\n                        So the final answer is: Hay tratamientos que reducen eficazmente el riesgo de transmisión del virus a su futuro hijo o hija durante\\n                        el embarazo y parto, y además has de tener en cuenta que no debes dar el pecho a tu bebé. \\n                \\nHuman: Estoy preocupado porque creo que puedo haber contraído vih, quiero hacerme una prueba rápida\""
      ]
     },
     "execution_count": 8,
     "metadata": {},
     "output_type": "execute_result"
    }
   ],
   "source": [
    "few_shot_prompt = FewShotChatMessagePromptTemplate(\n",
    "    examples=examples_2,\n",
    "    example_prompt=example_prompt,\n",
    "    # suffix=\"Question: {input}\",\n",
    "    # input_variables=[\"input\"],\n",
    ")\n",
    "\n",
    "final_prompt = ChatPromptTemplate.from_messages(\n",
    "    [\n",
    "        ('system', '''You are a Spanish expert chatbot of vih, who offers information resources, outreach resources and \n",
    "                      emotional support resources to users that need you to help them. You are helpful, inclusive, supportive, nice, educated, \n",
    "                      polite and LGTIB+ friendly. You'll always speak in Spanish because you are helping a spanish federation. If users ask you \n",
    "                      or try to get information which is not related to vih, you'll ask them that you can't help them because you are only \n",
    "                      specialized in vih issues. Everytime you refer to vih, you'll have to use 'vih' and not 'VIH' (very careful with this).\n",
    "                      You must categorize the answer of the user in one of these three categories: 'Divulgación', 'Apoyo Emocional', 'Recursos'. \n",
    "                      Answer them by saying which category seems closer to their answer.'''),\n",
    "        few_shot_prompt,\n",
    "        ('human', '{input}'),\n",
    "    ]\n",
    ")\n",
    "final_prompt.format(input=\"Estoy preocupado porque creo que puedo haber contraído vih, quiero hacerme una prueba rápida\")"
   ]
  },
  {
   "cell_type": "code",
   "execution_count": 9,
   "metadata": {},
   "outputs": [],
   "source": [
    "from langchain_core.example_selectors import SemanticSimilarityExampleSelector\n",
    "from langchain_cohere import CohereEmbeddings\n",
    "from langchain_chroma import Chroma"
   ]
  },
  {
   "cell_type": "code",
   "execution_count": 10,
   "metadata": {},
   "outputs": [
    {
     "ename": "",
     "evalue": "",
     "output_type": "error",
     "traceback": [
      "\u001b[1;31mThe Kernel crashed while executing code in the current cell or a previous cell. \n",
      "\u001b[1;31mPlease review the code in the cell(s) to identify a possible cause of the failure. \n",
      "\u001b[1;31mClick <a href='https://aka.ms/vscodeJupyterKernelCrash'>here</a> for more info. \n",
      "\u001b[1;31mView Jupyter <a href='command:jupyter.viewOutput'>log</a> for further details."
     ]
    }
   ],
   "source": [
    "cohere_api_key = os.getenv(\"COHERE_TRIAL_API_KEY\")\n",
    "to_vectorize = [\n",
    "    \" \".join(example.values())\n",
    "    for example in examples_2\n",
    "]\n",
    "embeddings = CohereEmbeddings(cohere_api_key=cohere_api_key, model=\"embed-multilingual-light-v3.0\")\n",
    "vectorstore = Chroma.from_texts(\n",
    "    to_vectorize, embeddings, metadatas=examples_2\n",
    ")\n",
    "example_selector = SemanticSimilarityExampleSelector(\n",
    "    vectorstore=vectorstore\n",
    ")\n"
   ]
  },
  {
   "cell_type": "code",
   "execution_count": null,
   "metadata": {},
   "outputs": [],
   "source": [
    "from langchain_core import SystemMessage\n",
    "from langchain_core.prompts import HumanMessagePromptTemplate, SystemMessagePromptTemplate, AIMessagePromptTemplate\n",
    "from langchain_core.prompts.few_shot import FewShotChatMessagePromptTemplate\n",
    "\n",
    "few_shot_prompt = FewShotChatMessagePromptTemplate(\n",
    "    # Which variable(s) will be passed to the example selector.\n",
    "    input_variables=[\"input\"],\n",
    "    example_selector=example_selector,\n",
    "    # Define how each example will be formatted.\n",
    "    # In this case, each example will become 2 messages:\n",
    "    # 1 human, and 1 AI\n",
    "    example_prompt=(\n",
    "        HumanMessagePromptTemplate.from_template(\"{input}\")\n",
    "        + AIMessagePromptTemplate.from_template(\"{output}\")\n",
    "    ),\n",
    ")\n",
    "# Define the overall prompt.\n",
    "final_prompt = (\n",
    "    SystemMessagePromptTemplate.from_template(\n",
    "        '''You are a Spanish expert chatbot of vih, who offers information resources, outreach resources and \n",
    "                      emotional support resources to users that need you to help them. You are helpful, inclusive, supportive, nice, educated, \n",
    "                      polite and LGTIB+ friendly. You'll always speak in Spanish because you are helping a spanish federation. If users ask you \n",
    "                      or try to get information which is not related to vih, you'll ask them that you can't help them because you are only \n",
    "                      specialized in vih issues. Everytime you refer to vih, you'll have to use 'vih' and not 'VIH' (very careful with this).\n",
    "                      You must categorize the answer of the user in one of these three categories: 'Divulgación', 'Apoyo Emocional', 'Recursos'. \n",
    "                      Answer them by saying which category seems closer to their answer.'''\n",
    "    )\n",
    "    + few_shot_prompt\n",
    "    + HumanMessagePromptTemplate.from_template(\"{input}\")\n",
    ")\n",
    "# Show the prompt\n",
    "print(final_prompt.format_messages(input=\"Estoy preocupado porque creo que puedo haber contraído vih, quiero hacerme una prueba rápida\"))  # noqa: T201\n",
    "\n",
    "# Use within an LLM\n",
    "chain = final_prompt | ChatCohere(cohere_api_key=cohere_api_key)\n",
    "chain.invoke({\"input\": \"Estoy preocupado porque creo que puedo haber contraído vih, quiero hacerme una prueba rápida\"})"
   ]
  },
  {
   "cell_type": "code",
   "execution_count": null,
   "metadata": {},
   "outputs": [
    {
     "name": "stdout",
     "output_type": "stream",
     "text": [
      "Question: What year did the Apollo 11 moon landing occur?\n",
      "Are follow-up questions needed here: No.\n",
      "So the final answer is: 1969\n",
      "\n",
      "Question: Who discovered penicillin?\n"
     ]
    }
   ],
   "source": [
    "#Ejemplo de internet\n",
    "#print(prompt.format(input=\"Who discovered penicillin?\"))"
   ]
  },
  {
   "cell_type": "code",
   "execution_count": 15,
   "metadata": {},
   "outputs": [
    {
     "name": "stdout",
     "output_type": "stream",
     "text": [
      "Si has recibido un diagnóstico reciente de VIH, es comprensible que te sientas preocupado y que te preguntes cómo compartir esta información con tu pareja. Es una conversación importante y delicada, y es normal que quieras abordarla de la mejor manera posible.\n",
      "\n",
      "Aquí te dejo algunos consejos que pueden ayudarte a comunicar tu diagnóstico a tu pareja:\n",
      "\n",
      "1. **Elige el momento adecuado:** Busca un momento en el que tanto tú como tu pareja estén relajados y tengan tiempo para hablar y procesar la información. Asegúrate de que es un entorno privado y libre de distracciones.\n",
      "\n",
      "2. **Prepárate emocionalmente:** Antes de la conversación, tómate el tiempo necesario para procesar tus propios sentimientos y preocupaciones. Considera escribir tus pensamientos o hablar con un amigo de confianza o un profesional de la salud para aclarar tus ideas.\n",
      "\n",
      "3. **Sé directo y claro:** Es importante ser directo y transparente al compartir tu diagnóstico. Comienza la conversación diciendo algo como: \"Tengo algo importante que contarte sobre mi salud\". Luego, comparte tu diagnóstico de VIH directamente, por ejemplo: \"Recientemente me han diagnosticado VIH\".\n",
      "\n",
      "4. **Proporciona información:** Explica a tu pareja lo que significa tener VIH en la actualidad. Infórmale sobre los tratamientos disponibles, cómo se puede vivir una vida saludable con VIH y las medidas de prevención que se pueden tomar para reducir el riesgo de transmisión. Puedes utilizar recursos confiables para obtener información precisa, como los proporcionados por organizaciones especializadas en salud sexual.\n",
      "\n",
      "5. **Alienta a hacer preguntas:** Anima a tu pareja a hacer preguntas y aclara cualquier duda que pueda tener. Explica que es normal tener preguntas y que estás dispuesto a hablar sobre el tema.\n",
      "\n",
      "6. **Expresa tus sentimientos:** Comparte cómo te sientes al respecto y cómo te ha afectado el diagnóstico. Hablar sobre tus emociones puede ayudar a tu pareja a comprender mejor la situación y a ofrecerte el apoyo que necesitas.\n",
      "\n",
      "7. **Ofrece recursos:** Proporciona a tu pareja recursos adicionales donde pueda obtener más información sobre el VIH, como páginas web, folletos o contactos de organizaciones de apoyo. Esto le permitirá informarse más y sentirse más cómodo con la situación.\n",
      "\n",
      "8. **Sé paciente y comprensivo:** Recuerda que tu pareja puede necesitar tiempo para procesar la noticia. Cada persona reacciona de manera diferente, así que sé paciente y comprensivo con sus emociones y reacciones.\n",
      "\n",
      "Recuerda que la comunicación abierta y honesta es fundamental en cualquier relación. Aunque puede ser difícil, compartir tu diagnóstico de VIH con tu pareja puede fortalecer su vínculo y permitirles enfrentar juntos los desafíos que puedan surgir.\n",
      "\n",
      "Si necesitas más apoyo o recursos, puedes consultar organizaciones y grupos de apoyo especializados en VIH, donde encontrarás información y ayuda para manejar diferentes aspectos de tu vida con el diagnóstico.\n"
     ]
    }
   ],
   "source": [
    "formatted_prompt = prompt.format(input=\"Tengo VIH y no sé cómo contárselo a mi pareja\")\n",
    "response = llm.invoke(formatted_prompt)\n",
    "print(response.content)"
   ]
  },
  {
   "cell_type": "code",
   "execution_count": 16,
   "metadata": {},
   "outputs": [
    {
     "name": "stdout",
     "output_type": "stream",
     "text": [
      "En este caso, es importante que te realices una prueba de detección del VIH lo antes posible. La prueba puede determinar si has estado expuesto al virus. Si ha sido dentro de las últimas 72 horas, también se recomienda la profilaxis post-exposición (PEP), que es un tratamiento de emergencia para reducir el riesgo de infección.\n",
      "\n",
      "La prueba de VIH es confidencial y gratuita en muchos centros de salud y clínicas especializadas. Si estás preocupado y quieres obtener un diagnóstico rápido, puedes buscar un centro que ofrezca pruebas rápidas de VIH. Estos centros pueden proporcionar resultados preliminares en cuestión de minutos.\n",
      "\n",
      "Además, es importante que te mantengas informado sobre la transmisión del VIH y las formas de prevenirlo. Aquí hay algunos recursos que puedes consultar:\n",
      "- https://www.sanidad.gob.es/ciudadanos/enfLesiones/enfTransmisibles/sida/home.htm\n",
      "- https://www.cdc.gov/spanish/vih/\n",
      "\n",
      "Si necesitas apoyo emocional o tienes más preguntas, también puedes buscar grupos de apoyo en línea o locales para personas que viven con VIH o que están preocupadas por su estado serológico.\n"
     ]
    }
   ],
   "source": [
    "formatted_prompt = prompt.format(input=\"Ayer mantuve relaciones sexuales con una persona sin protección y no sé si estoy en riesgo de haber contraído vih\")\n",
    "response = llm.invoke(formatted_prompt)\n",
    "print(response.content)"
   ]
  },
  {
   "cell_type": "code",
   "execution_count": null,
   "metadata": {},
   "outputs": [
    {
     "name": "stdout",
     "output_type": "stream",
     "text": [
      "Si sospechas que has estado expuesto al VIH, es importante que actúes rápidamente. El primer paso es acudir a un centro de salud o clínica especializada en infecciones de transmisión sexual (ITS) para realizarte una prueba de detección del VIH. La prueba puede ser un análisis de sangre o una prueba rápida, que proporciona resultados en unos minutos.\n",
      "\n",
      "Si la prueba es positiva, es fundamental que comiences el tratamiento antirretroviral lo antes posible. Este tratamiento ayuda a controlar el virus y a prevenir complicaciones de salud. Además, es importante que recibas apoyo y asesoramiento de profesionales de la salud y organizaciones especializadas en VIH/SIDA.\n",
      "\n",
      "Si la exposición al VIH fue reciente (en las últimas 72 horas), se puede considerar la Profilaxis Post-Exposición (PEP), que es un tratamiento de emergencia para reducir el riesgo de infección. La PEP debe iniciarse lo antes posible después de la exposición y requiere tomar medicamentos durante un período de tiempo determinado.\n",
      "\n",
      "En cuanto a tus preocupaciones sobre cómo contárselo a tu entorno, es una decisión personal y puede ser un proceso difícil. Es importante que te tomes el tiempo que necesites para procesar la noticia y buscar apoyo emocional. Puedes considerar hablar primero con alguien de confianza, como un amigo cercano o un profesional de la salud, antes de compartir la información con otras personas.\n",
      "\n",
      "Recuerda que el VIH es una condición manejable con el tratamiento adecuado y el apoyo necesario. Es importante buscar atención médica y apoyo emocional para cuidar de tu salud física y mental.\n"
     ]
    }
   ],
   "source": [
    "formatted_prompt = prompt.format(input=\"Estoy preocupado porque creo que puedo haber contraído vih\")\n",
    "response = llm.invoke(formatted_prompt)\n",
    "print(response.content)"
   ]
  },
  {
   "cell_type": "markdown",
   "metadata": {},
   "source": [
    "## Ayudita"
   ]
  },
  {
   "cell_type": "code",
   "execution_count": null,
   "metadata": {},
   "outputs": [],
   "source": [
    "#Configurar tu API Key de Cohere\n",
    "#co = cohere.Client(\"tu-api-key\")\n",
    "\n",
    "# Crear la plantilla FewShotChatMessagePromptTemplate\n",
    "few_shot_prompt = FewShotChatMessagePromptTemplate(\n",
    "    example_messages=[\n",
    "        HumanMessage(content=examples[\"question\"]),\n",
    "        AIMessage(content=examples[\"answer\"])\n",
    "    ] for example in examples,\n",
    "    # Mensaje inicial para establecer el contexto del asistente\n",
    "    prefix_messages=[\n",
    "        SystemMessage(content='''You are a Spanish expert chatbot of vih, who offers information resources, outreach resources and \n",
    "                      emotional support resources to users that need you to help them. You are helpful, inclusive, supportive, nice, educated, \n",
    "                      polite and LGTIB+ friendly. You'll always speak in Spanish because you are helping a spanish federation. If users ask you \n",
    "                      or try to get information which is not related to vih, you'll ask them that you can't help them because you are only \n",
    "                      specialized in vih issues. Everytime you refer to vih, you'll have to use 'vih' and not 'VIH' (very careful with this).\n",
    "                      You must categorize the answer of the user in one of these three categories: 'Divulgación', 'Apoyo Emocional', 'Recursos'. \n",
    "                      Answer them by saying which category seems closer to their answer.\")                      ''')]\n",
    "      response = co.generate(\n",
    "            model='command',  # Modelo de Cohere (puedes probar con 'command' o 'command-nightly')\n",
    "            prompt=prompt,\n",
    "            max_tokens=50,\n",
    "            temperature=0.7\n",
    "        )\n",
    "\n",
    "        # Imprimir la respuesta del asistente\n",
    "        print(f\"Asistente: {response.generations[0].text.strip()}\")\n",
    "        \n",
    "        # Pedir más información hasta que el usuario termine\n",
    "        user_input = input(\"Usuario: \")\n",
    "        if user_input.lower() in [\"gracias\", \"eso es todo\", \"no más preguntas\"]:\n",
    "            print(\"Asistente: ¡De nada! 😊\")\n",
    "            break\n",
    "        \n",
    "# Iniciar la conversación\n",
    "interact_with_chatbot()\n",
    "(\"system\", '''You are a Spanish expert chatbot of vih, who offers information resources, outreach resources and emotional support resources to users that need you to help them.\n",
    "         You are helpful, inclusive, supportive, nice, educated, polite and LGTIB+ friendly. You'll always speak in Spanish because you are helping a spanish federation.\n",
    "         If users ask you or try to get information which is not related to vih, you'll ask them that you can't help them because you are only specialized in vih issues. \n",
    "         Everytime you refer to vih, you'll have to use \"vih\" and not \"VIH\" (very careful with this).\n",
    "         You must categorize the answer of the user in one of these three categories: \"Divulgación\", \"Apoyo Emocional\", \"Recursos\". Answer them by saying which category seems closer to their answer.\n",
    "         ''')"
   ]
  },
  {
   "cell_type": "markdown",
   "metadata": {},
   "source": [
    "### Pruebas Endpoint"
   ]
  },
  {
   "cell_type": "code",
   "execution_count": 16,
   "metadata": {},
   "outputs": [],
   "source": [
    "from model import vih_chat_usuario, vih_chat_profesional"
   ]
  },
  {
   "cell_type": "code",
   "execution_count": 2,
   "metadata": {},
   "outputs": [
    {
     "name": "stdout",
     "output_type": "stream",
     "text": [
      "¡Hola! Entiendo que estás pasando por una situación difícil y quieres buscar apoyo para afrontar la revelación de tu diagnóstico de vih a tus padres. Estoy aquí para ayudarte y guiarte en este proceso.\n",
      "\n",
      "Compartir tu diagnóstico de vih con tus seres queridos puede ser una decisión muy personal y compleja. Es normal sentir preocupación o incertidumbre sobre cómo reaccionarán tus padres. Lo importante es que te sientas preparado y elijas el momento adecuado para tener esta conversación.\n",
      "\n",
      "Aquí te dejo algunos consejos que pueden ser útiles:\n",
      "\n",
      "1. **Prepara el terreno**: Antes de hablar con tus padres, infórmate bien sobre el vih y el tratamiento que estás siguiendo. Esto te ayudará a sentirte más seguro y a responder a cualquier pregunta que puedan tener. Puedes visitar la página de FELGTBI+ para obtener información fiable y actualizada: [Información sobre el VIH](https://www.felgtbi.org/vih-sida/).\n",
      "\n",
      "2. **Elige el momento adecuado**: Busca un momento en el que puedas hablar con ellos tranquilamente y sin interrupciones. Asegúrate de que ambos estén receptivos y dispuestos a escucharte.\n",
      "\n",
      "3. **Explica tu situación con calma**: Comienza la conversación expresando cómo te sientes y por qué has decidido compartir esta información. Puedes decir algo como: \"Mamá, papá, necesito hablar con ustedes sobre algo importante. Hace unos meses me diagnosticaron vih, y quería que lo supieran porque son una parte importante de mi vida.\"\n",
      "\n",
      "4. **Proporciona información clara**: Explica en qué consiste el vih, cómo se transmite y cómo estás llevando tu tratamiento. Asegúrales que estás recibiendo la atención médica necesaria y que estás tomando medidas para cuidar de tu salud.\n",
      "\n",
      "5. **Resuelve sus dudas**: Es posible que tus padres tengan preguntas o preocupaciones. Escúchalos con paciencia y trata de responder a sus dudas de la mejor manera posible. Recuerda que la educación y la información son clave para combatir el estigma asociado al vih.\n",
      "\n",
      "6. **Busca apoyo**: Si te sientes nervioso o necesitas apoyo adicional, considera hablar primero con un amigo de confianza o con un profesional de la salud que pueda guiarte en este proceso.\n",
      "\n",
      "Recuerda que revelar tu diagnóstico es una decisión personal, y solo debes hacerlo cuando te sientas listo. Tus padres pueden reaccionar de diferentes maneras, pero lo importante es que sepan que cuentas con su apoyo y amor incondicional.\n",
      "\n",
      "Si necesitas más recursos o información, la Federación Estatal de Lesbianas, Gais, Trans y Bisexuales (FELGTBI+) ofrece una guía completa sobre el vih y la salud sexual: [Guía de Salud Sexual y VIH](https://www.felgtbi.org/wp-content/uploads/2022/06/Guia_Salud_Sexual_y_VIH.pdf).\n",
      "\n",
      "¡Mucha fuerza y ánimo en este proceso! Estoy aquí si necesitas más apoyo o información sobre el vih.\n",
      "\n",
      "**Referencias:**\n",
      "- FELGTBI+. (s.f.). VIH/SIDA. https://www.felgtbi.org/vih-sida/\n",
      "- FELGTBI+. (s.f.). Guía de Salud Sexual y VIH. https://www.felgtbi.org/wp-content/uploads/2022/06/Guia_Salud_Sexual_y_VIH.pdf\n"
     ]
    }
   ],
   "source": [
    "answer = vih_chat_usuario(\"Tengo vih y no sé cómo decírselo a mis padres\", \"Albacete\",\"Castilla la Mancha\",\"Amigos\",\"Sí, y sigo tratamiento\",\"Entre 1 y 3 meses\",\n",
    "                 \"Hace menos de un mes\", 35,\"España\",\"Cisgénero\",\"Heterosexual\",\"Soltería\",\"No\")\n",
    "print(answer)"
   ]
  },
  {
   "cell_type": "code",
   "execution_count": 17,
   "metadata": {},
   "outputs": [
    {
     "ename": "UndefinedColumn",
     "evalue": "column \"id_sesion\" of relation \"interacciones\" does not exist\nLINE 2:     INSERT INTO interacciones (id_sesion,usuario,contenido)\n                                       ^\n",
     "output_type": "error",
     "traceback": [
      "\u001b[1;31m---------------------------------------------------------------------------\u001b[0m",
      "\u001b[1;31mUndefinedColumn\u001b[0m                           Traceback (most recent call last)",
      "Cell \u001b[1;32mIn[17], line 2\u001b[0m\n\u001b[0;32m      1\u001b[0m pregunta \u001b[38;5;241m=\u001b[39m \u001b[38;5;124m\"\u001b[39m\u001b[38;5;124mEl paciente quiere más información sobre qué tipo de virus es el vih\u001b[39m\u001b[38;5;124m\"\u001b[39m\n\u001b[1;32m----> 2\u001b[0m answer \u001b[38;5;241m=\u001b[39m \u001b[43mvih_chat_profesional\u001b[49m\u001b[43m(\u001b[49m\u001b[43mpregunta\u001b[49m\u001b[43m,\u001b[49m\u001b[43m \u001b[49m\u001b[38;5;124;43m\"\u001b[39;49m\u001b[38;5;124;43mSevilla\u001b[39;49m\u001b[38;5;124;43m\"\u001b[39;49m\u001b[43m,\u001b[49m\u001b[38;5;124;43m\"\u001b[39;49m\u001b[38;5;124;43mAndalucía\u001b[39;49m\u001b[38;5;124;43m\"\u001b[39;49m\u001b[43m,\u001b[49m\u001b[38;5;124;43m\"\u001b[39;49m\u001b[38;5;124;43mPor amigos\u001b[39;49m\u001b[38;5;124;43m\"\u001b[39;49m\u001b[43m,\u001b[49m\u001b[38;5;124;43m\"\u001b[39;49m\u001b[38;5;124;43mNo\u001b[39;49m\u001b[38;5;124;43m\"\u001b[39;49m\u001b[43m,\u001b[49m\u001b[38;5;28;43;01mNone\u001b[39;49;00m\u001b[43m,\u001b[49m\u001b[38;5;28;43;01mNone\u001b[39;49;00m\u001b[43m,\u001b[49m\n\u001b[0;32m      3\u001b[0m \u001b[43m                              \u001b[49m\u001b[38;5;124;43m\"\u001b[39;49m\u001b[38;5;124;43mHospitales y centros de salud\u001b[39;49m\u001b[38;5;124;43m\"\u001b[39;49m\u001b[43m,\u001b[49m\u001b[43m \u001b[49m\u001b[38;5;124;43m\"\u001b[39;49m\u001b[38;5;124;43mGeriatría\u001b[39;49m\u001b[38;5;124;43m\"\u001b[39;49m\u001b[43m,\u001b[49m\u001b[38;5;28;43;01mFalse\u001b[39;49;00m\u001b[43m)\u001b[49m\n\u001b[0;32m      4\u001b[0m \u001b[38;5;28mprint\u001b[39m(answer)\n",
      "File \u001b[1;32mc:\\Users\\raulg\\Documents\\THEBRIDGE_DS\\0.-Repo_Git\\Desafio-Final\\model.py:73\u001b[0m, in \u001b[0;36mvih_chat_profesional\u001b[1;34m(pregunta_profesional, municipio, ccaa, conocer_felgtbi, vih_usuario, vih_diagnostico, vih_tratamiento, pro_ambito, pro_especialidad, pro_vih_profesional)\u001b[0m\n\u001b[0;32m     68\u001b[0m \u001b[38;5;28;01mdef\u001b[39;00m \u001b[38;5;21mvih_chat_profesional\u001b[39m(pregunta_profesional,municipio, ccaa, conocer_felgtbi, vih_usuario, vih_diagnostico,\n\u001b[0;32m     69\u001b[0m              vih_tratamiento, pro_ambito, pro_especialidad, pro_vih_profesional):    \n\u001b[0;32m     70\u001b[0m \n\u001b[0;32m     71\u001b[0m     \u001b[38;5;66;03m#We define the Cohere llm\u001b[39;00m\n\u001b[0;32m     72\u001b[0m     llm \u001b[38;5;241m=\u001b[39m ChatCohere(cohere_api_key\u001b[38;5;241m=\u001b[39mcohere_api_key) \u001b[38;5;66;03m#Aquí podemos limitar los tokens con max_tokens \u001b[39;00m\n\u001b[1;32m---> 73\u001b[0m     \u001b[43mdb_insert_values\u001b[49m\u001b[43m(\u001b[49m\u001b[38;5;124;43m\"\u001b[39;49m\u001b[38;5;124;43m999999999999\u001b[39;49m\u001b[38;5;124;43m\"\u001b[39;49m\u001b[43m,\u001b[49m\u001b[38;5;124;43m\"\u001b[39;49m\u001b[38;5;124;43mprofesional\u001b[39;49m\u001b[38;5;124;43m\"\u001b[39;49m\u001b[43m,\u001b[49m\u001b[43mpregunta_profesional\u001b[49m\u001b[43m)\u001b[49m\n\u001b[0;32m     74\u001b[0m     \u001b[38;5;66;03m#We create the prompt template\u001b[39;00m\n\u001b[0;32m     75\u001b[0m     template \u001b[38;5;241m=\u001b[39m ChatPromptTemplate([\n\u001b[0;32m     76\u001b[0m         (\u001b[38;5;124m\"\u001b[39m\u001b[38;5;124msystem\u001b[39m\u001b[38;5;124m\"\u001b[39m, \u001b[38;5;124m'''\u001b[39m\u001b[38;5;124mYou are a Spanish expert chatbot of vih, who offers information resources, outreach resources and emotional support resources to users that need you to help them.\u001b[39m\n\u001b[0;32m     77\u001b[0m \u001b[38;5;124m         You are helpful, inclusive, supportive, nice, educated, polite and LGTBi+ friendly. You should use a somewhat technical jargon, because the user is a socio-sanitary worker. You\u001b[39m\u001b[38;5;124m'\u001b[39m\u001b[38;5;124mll always speak in Spanish because you are helping a spanish federation.\u001b[39m\n\u001b[1;32m   (...)\u001b[0m\n\u001b[0;32m     85\u001b[0m \u001b[38;5;124m          \u001b[39m\u001b[38;5;124m'''\u001b[39m)        \n\u001b[0;32m     86\u001b[0m     ])\n",
      "File \u001b[1;32mc:\\Users\\raulg\\Documents\\THEBRIDGE_DS\\0.-Repo_Git\\Desafio-Final\\model.py:30\u001b[0m, in \u001b[0;36mdb_insert_values\u001b[1;34m(id_sesion, usuario, contenido)\u001b[0m\n\u001b[0;32m     28\u001b[0m conn \u001b[38;5;241m=\u001b[39m get_db_connection()\n\u001b[0;32m     29\u001b[0m cursor \u001b[38;5;241m=\u001b[39m conn\u001b[38;5;241m.\u001b[39mcursor()\n\u001b[1;32m---> 30\u001b[0m \u001b[43mcursor\u001b[49m\u001b[38;5;241;43m.\u001b[39;49m\u001b[43mexecute\u001b[49m\u001b[43m(\u001b[49m\u001b[38;5;124;43m'''\u001b[39;49m\n\u001b[0;32m     31\u001b[0m \u001b[38;5;124;43mINSERT INTO interacciones (id_sesion,usuario,contenido)\u001b[39;49m\n\u001b[0;32m     32\u001b[0m \u001b[38;5;124;43mVALUES (\u001b[39;49m\u001b[38;5;132;43;01m%s\u001b[39;49;00m\u001b[38;5;124;43m, \u001b[39;49m\u001b[38;5;132;43;01m%s\u001b[39;49;00m\u001b[38;5;124;43m, \u001b[39;49m\u001b[38;5;132;43;01m%s\u001b[39;49;00m\u001b[38;5;124;43m)\u001b[39;49m\n\u001b[0;32m     33\u001b[0m \u001b[38;5;124;43m\u001b[39;49m\u001b[38;5;124;43m'''\u001b[39;49m\u001b[43m,\u001b[49m\n\u001b[0;32m     34\u001b[0m \u001b[43m\u001b[49m\u001b[43m(\u001b[49m\u001b[43mid_sesion\u001b[49m\u001b[43m,\u001b[49m\u001b[43musuario\u001b[49m\u001b[43m,\u001b[49m\u001b[43mcontenido\u001b[49m\u001b[43m)\u001b[49m\n\u001b[0;32m     35\u001b[0m \u001b[43m\u001b[49m\u001b[43m)\u001b[49m\n\u001b[0;32m     36\u001b[0m conn\u001b[38;5;241m.\u001b[39mcommit()\n\u001b[0;32m     37\u001b[0m conn\u001b[38;5;241m.\u001b[39mclose()\n",
      "\u001b[1;31mUndefinedColumn\u001b[0m: column \"id_sesion\" of relation \"interacciones\" does not exist\nLINE 2:     INSERT INTO interacciones (id_sesion,usuario,contenido)\n                                       ^\n"
     ]
    }
   ],
   "source": [
    "pregunta = \"El paciente quiere más información sobre qué tipo de virus es el vih\"\n",
    "answer = vih_chat_profesional(pregunta, \"Sevilla\",\"Andalucía\",\"Por amigos\",\"No\",None,None,\n",
    "                              \"Hospitales y centros de salud\", \"Geriatría\",False)\n",
    "print(answer)"
   ]
  },
  {
   "cell_type": "markdown",
   "metadata": {},
   "source": [
    "## Pruebas few-shot prompting sin selector"
   ]
  },
  {
   "cell_type": "code",
   "execution_count": 11,
   "metadata": {},
   "outputs": [],
   "source": [
    "examples_2 = [\n",
    "    {\n",
    "        \"input\": \"Estoy preocupado porque creo que puedo haber contraído vih, quiero hacerme una prueba rápida\",\n",
    "        \"output\": \"\"\"\n",
    "                        So the final answer is: Es recomendable que acudas a un centro en el que puedas realizarte una prueba rápida, con el fin de obtener\n",
    "                        un diagnóstico inicial y así ver si debes tomar algún medicamento PEP. Los centros que ofrecen dicho servicio se pueden buscar en \n",
    "                        https://felgtbi.org/que-hacemos/apoyo/salud-y-prevencion/pruebarapida/\n",
    "                \"\"\",\n",
    "    },\n",
    "    {\n",
    "        \"input\": \"Estoy preocupado\",\n",
    "        \"output\": \"\"\"\n",
    "                        Are follow-up questions needed here: Yes.\n",
    "                        Follow up: ¿Cuál es tu situación?\n",
    "                        Intermediate answer: No sé si debería estar preocupada porque tengo VIH y estoy embarazada\n",
    "                        So the final answer is: Hay tratamientos que reducen eficazmente el riesgo de transmisión del virus a su futuro hijo o hija durante\n",
    "                        el embarazo y parto, y además has de tener en cuenta que no debes dar el pecho a tu bebé. \n",
    "                \"\"\",\n",
    "    },\n",
    "]\n"
   ]
  },
  {
   "cell_type": "code",
   "execution_count": null,
   "metadata": {},
   "outputs": [
    {
     "ename": "KeyError",
     "evalue": "'output'",
     "output_type": "error",
     "traceback": [
      "\u001b[1;31m---------------------------------------------------------------------------\u001b[0m",
      "\u001b[1;31mKeyError\u001b[0m                                  Traceback (most recent call last)",
      "Cell \u001b[1;32mIn[12], line 40\u001b[0m\n\u001b[0;32m     37\u001b[0m user_input \u001b[38;5;241m=\u001b[39m \u001b[38;5;124m\"\u001b[39m\u001b[38;5;124mEstoy preocupado porque creo que puedo haber contraído vih, quiero hacerme una prueba rápida\u001b[39m\u001b[38;5;124m\"\u001b[39m\n\u001b[0;32m     39\u001b[0m \u001b[38;5;66;03m# Genera el prompt\u001b[39;00m\n\u001b[1;32m---> 40\u001b[0m final_prompt \u001b[38;5;241m=\u001b[39m \u001b[43mfew_shot_prompt\u001b[49m\u001b[38;5;241;43m.\u001b[39;49m\u001b[43mformat\u001b[49m\u001b[43m(\u001b[49m\u001b[43mpregunta_usuario\u001b[49m\u001b[38;5;241;43m=\u001b[39;49m\u001b[43muser_input\u001b[49m\u001b[43m)\u001b[49m\n\u001b[0;32m     42\u001b[0m \u001b[38;5;66;03m# Genera la respuesta\u001b[39;00m\n\u001b[0;32m     43\u001b[0m respuesta \u001b[38;5;241m=\u001b[39m chat_model\u001b[38;5;241m.\u001b[39minvoke(final_prompt)\n",
      "File \u001b[1;32mc:\\Users\\raulg\\AppData\\Local\\Programs\\Python\\Python312\\Lib\\site-packages\\langchain_core\\prompts\\few_shot.py:197\u001b[0m, in \u001b[0;36mFewShotPromptTemplate.format\u001b[1;34m(self, **kwargs)\u001b[0m\n\u001b[0;32m    194\u001b[0m template \u001b[38;5;241m=\u001b[39m \u001b[38;5;28mself\u001b[39m\u001b[38;5;241m.\u001b[39mexample_separator\u001b[38;5;241m.\u001b[39mjoin([piece \u001b[38;5;28;01mfor\u001b[39;00m piece \u001b[38;5;129;01min\u001b[39;00m pieces \u001b[38;5;28;01mif\u001b[39;00m piece])\n\u001b[0;32m    196\u001b[0m \u001b[38;5;66;03m# Format the template with the input variables.\u001b[39;00m\n\u001b[1;32m--> 197\u001b[0m \u001b[38;5;28;01mreturn\u001b[39;00m \u001b[43mDEFAULT_FORMATTER_MAPPING\u001b[49m\u001b[43m[\u001b[49m\u001b[38;5;28;43mself\u001b[39;49m\u001b[38;5;241;43m.\u001b[39;49m\u001b[43mtemplate_format\u001b[49m\u001b[43m]\u001b[49m\u001b[43m(\u001b[49m\u001b[43mtemplate\u001b[49m\u001b[43m,\u001b[49m\u001b[43m \u001b[49m\u001b[38;5;241;43m*\u001b[39;49m\u001b[38;5;241;43m*\u001b[39;49m\u001b[43mkwargs\u001b[49m\u001b[43m)\u001b[49m\n",
      "File \u001b[1;32mc:\\Users\\raulg\\AppData\\Local\\Programs\\Python\\Python312\\Lib\\string.py:190\u001b[0m, in \u001b[0;36mFormatter.format\u001b[1;34m(self, format_string, *args, **kwargs)\u001b[0m\n\u001b[0;32m    189\u001b[0m \u001b[38;5;28;01mdef\u001b[39;00m \u001b[38;5;21mformat\u001b[39m(\u001b[38;5;28mself\u001b[39m, format_string, \u001b[38;5;241m/\u001b[39m, \u001b[38;5;241m*\u001b[39margs, \u001b[38;5;241m*\u001b[39m\u001b[38;5;241m*\u001b[39mkwargs):\n\u001b[1;32m--> 190\u001b[0m     \u001b[38;5;28;01mreturn\u001b[39;00m \u001b[38;5;28;43mself\u001b[39;49m\u001b[38;5;241;43m.\u001b[39;49m\u001b[43mvformat\u001b[49m\u001b[43m(\u001b[49m\u001b[43mformat_string\u001b[49m\u001b[43m,\u001b[49m\u001b[43m \u001b[49m\u001b[43margs\u001b[49m\u001b[43m,\u001b[49m\u001b[43m \u001b[49m\u001b[43mkwargs\u001b[49m\u001b[43m)\u001b[49m\n",
      "File \u001b[1;32mc:\\Users\\raulg\\AppData\\Local\\Programs\\Python\\Python312\\Lib\\site-packages\\langchain_core\\utils\\formatting.py:33\u001b[0m, in \u001b[0;36mStrictFormatter.vformat\u001b[1;34m(self, format_string, args, kwargs)\u001b[0m\n\u001b[0;32m     28\u001b[0m     msg \u001b[38;5;241m=\u001b[39m (\n\u001b[0;32m     29\u001b[0m         \u001b[38;5;124m\"\u001b[39m\u001b[38;5;124mNo arguments should be provided, \u001b[39m\u001b[38;5;124m\"\u001b[39m\n\u001b[0;32m     30\u001b[0m         \u001b[38;5;124m\"\u001b[39m\u001b[38;5;124meverything should be passed as keyword arguments.\u001b[39m\u001b[38;5;124m\"\u001b[39m\n\u001b[0;32m     31\u001b[0m     )\n\u001b[0;32m     32\u001b[0m     \u001b[38;5;28;01mraise\u001b[39;00m \u001b[38;5;167;01mValueError\u001b[39;00m(msg)\n\u001b[1;32m---> 33\u001b[0m \u001b[38;5;28;01mreturn\u001b[39;00m \u001b[38;5;28;43msuper\u001b[39;49m\u001b[43m(\u001b[49m\u001b[43m)\u001b[49m\u001b[38;5;241;43m.\u001b[39;49m\u001b[43mvformat\u001b[49m\u001b[43m(\u001b[49m\u001b[43mformat_string\u001b[49m\u001b[43m,\u001b[49m\u001b[43m \u001b[49m\u001b[43margs\u001b[49m\u001b[43m,\u001b[49m\u001b[43m \u001b[49m\u001b[43mkwargs\u001b[49m\u001b[43m)\u001b[49m\n",
      "File \u001b[1;32mc:\\Users\\raulg\\AppData\\Local\\Programs\\Python\\Python312\\Lib\\string.py:194\u001b[0m, in \u001b[0;36mFormatter.vformat\u001b[1;34m(self, format_string, args, kwargs)\u001b[0m\n\u001b[0;32m    192\u001b[0m \u001b[38;5;28;01mdef\u001b[39;00m \u001b[38;5;21mvformat\u001b[39m(\u001b[38;5;28mself\u001b[39m, format_string, args, kwargs):\n\u001b[0;32m    193\u001b[0m     used_args \u001b[38;5;241m=\u001b[39m \u001b[38;5;28mset\u001b[39m()\n\u001b[1;32m--> 194\u001b[0m     result, _ \u001b[38;5;241m=\u001b[39m \u001b[38;5;28;43mself\u001b[39;49m\u001b[38;5;241;43m.\u001b[39;49m\u001b[43m_vformat\u001b[49m\u001b[43m(\u001b[49m\u001b[43mformat_string\u001b[49m\u001b[43m,\u001b[49m\u001b[43m \u001b[49m\u001b[43margs\u001b[49m\u001b[43m,\u001b[49m\u001b[43m \u001b[49m\u001b[43mkwargs\u001b[49m\u001b[43m,\u001b[49m\u001b[43m \u001b[49m\u001b[43mused_args\u001b[49m\u001b[43m,\u001b[49m\u001b[43m \u001b[49m\u001b[38;5;241;43m2\u001b[39;49m\u001b[43m)\u001b[49m\n\u001b[0;32m    195\u001b[0m     \u001b[38;5;28mself\u001b[39m\u001b[38;5;241m.\u001b[39mcheck_unused_args(used_args, args, kwargs)\n\u001b[0;32m    196\u001b[0m     \u001b[38;5;28;01mreturn\u001b[39;00m result\n",
      "File \u001b[1;32mc:\\Users\\raulg\\AppData\\Local\\Programs\\Python\\Python312\\Lib\\string.py:234\u001b[0m, in \u001b[0;36mFormatter._vformat\u001b[1;34m(self, format_string, args, kwargs, used_args, recursion_depth, auto_arg_index)\u001b[0m\n\u001b[0;32m    230\u001b[0m     auto_arg_index \u001b[38;5;241m=\u001b[39m \u001b[38;5;28;01mFalse\u001b[39;00m\n\u001b[0;32m    232\u001b[0m \u001b[38;5;66;03m# given the field_name, find the object it references\u001b[39;00m\n\u001b[0;32m    233\u001b[0m \u001b[38;5;66;03m#  and the argument it came from\u001b[39;00m\n\u001b[1;32m--> 234\u001b[0m obj, arg_used \u001b[38;5;241m=\u001b[39m \u001b[38;5;28;43mself\u001b[39;49m\u001b[38;5;241;43m.\u001b[39;49m\u001b[43mget_field\u001b[49m\u001b[43m(\u001b[49m\u001b[43mfield_name\u001b[49m\u001b[43m,\u001b[49m\u001b[43m \u001b[49m\u001b[43margs\u001b[49m\u001b[43m,\u001b[49m\u001b[43m \u001b[49m\u001b[43mkwargs\u001b[49m\u001b[43m)\u001b[49m\n\u001b[0;32m    235\u001b[0m used_args\u001b[38;5;241m.\u001b[39madd(arg_used)\n\u001b[0;32m    237\u001b[0m \u001b[38;5;66;03m# do any conversion on the resulting object\u001b[39;00m\n",
      "File \u001b[1;32mc:\\Users\\raulg\\AppData\\Local\\Programs\\Python\\Python312\\Lib\\string.py:299\u001b[0m, in \u001b[0;36mFormatter.get_field\u001b[1;34m(self, field_name, args, kwargs)\u001b[0m\n\u001b[0;32m    296\u001b[0m \u001b[38;5;28;01mdef\u001b[39;00m \u001b[38;5;21mget_field\u001b[39m(\u001b[38;5;28mself\u001b[39m, field_name, args, kwargs):\n\u001b[0;32m    297\u001b[0m     first, rest \u001b[38;5;241m=\u001b[39m _string\u001b[38;5;241m.\u001b[39mformatter_field_name_split(field_name)\n\u001b[1;32m--> 299\u001b[0m     obj \u001b[38;5;241m=\u001b[39m \u001b[38;5;28;43mself\u001b[39;49m\u001b[38;5;241;43m.\u001b[39;49m\u001b[43mget_value\u001b[49m\u001b[43m(\u001b[49m\u001b[43mfirst\u001b[49m\u001b[43m,\u001b[49m\u001b[43m \u001b[49m\u001b[43margs\u001b[49m\u001b[43m,\u001b[49m\u001b[43m \u001b[49m\u001b[43mkwargs\u001b[49m\u001b[43m)\u001b[49m\n\u001b[0;32m    301\u001b[0m     \u001b[38;5;66;03m# loop through the rest of the field_name, doing\u001b[39;00m\n\u001b[0;32m    302\u001b[0m     \u001b[38;5;66;03m#  getattr or getitem as needed\u001b[39;00m\n\u001b[0;32m    303\u001b[0m     \u001b[38;5;28;01mfor\u001b[39;00m is_attr, i \u001b[38;5;129;01min\u001b[39;00m rest:\n",
      "File \u001b[1;32mc:\\Users\\raulg\\AppData\\Local\\Programs\\Python\\Python312\\Lib\\string.py:256\u001b[0m, in \u001b[0;36mFormatter.get_value\u001b[1;34m(self, key, args, kwargs)\u001b[0m\n\u001b[0;32m    254\u001b[0m     \u001b[38;5;28;01mreturn\u001b[39;00m args[key]\n\u001b[0;32m    255\u001b[0m \u001b[38;5;28;01melse\u001b[39;00m:\n\u001b[1;32m--> 256\u001b[0m     \u001b[38;5;28;01mreturn\u001b[39;00m \u001b[43mkwargs\u001b[49m\u001b[43m[\u001b[49m\u001b[43mkey\u001b[49m\u001b[43m]\u001b[49m\n",
      "\u001b[1;31mKeyError\u001b[0m: 'output'"
     ]
    }
   ],
   "source": [
    "### Ejemplo chat\n",
    "from langchain.prompts import PromptTemplate\n",
    "from langchain.prompts import FewShotPromptTemplate\n",
    "from langchain_cohere import ChatCohere\n",
    "\n",
    "\n",
    "cohere_api_key = os.getenv(\"COHERE_TRIAL_API_KEY\")\n",
    "\n",
    "\n",
    "examples = [\n",
    "    {\"pregunta\": \"¿Qué tiempo hace hoy?\", \"respuesta\": \"Hace sol y está cálido.\"},\n",
    "    {\"pregunta\": \"¿Cuál es la capital de Francia?\", \"respuesta\": \"La capital de Francia es París.\"},\n",
    "    {\"pregunta\": \"¿Cómo se dice hola en japonés?\", \"respuesta\": \"Se dice 'Konnichiwa', pringao.\"}\n",
    "]\n",
    "\n",
    "example_prompt = PromptTemplate(\n",
    "    input_variables=[\"pregunta\", \"respuesta\"],\n",
    "    template=\"Input: {input}\\nOutput: {output}\\n\"\n",
    ")\n",
    "\n",
    "few_shot_prompt = FewShotPromptTemplate(\n",
    "    examples=examples,\n",
    "    example_prompt=example_prompt,\n",
    "    prefix=\"Contesta las siguientes preguntas basándote en los ejemplos.Si una pregunta coincide exactamente con un ejemplo, devuelve exactamente la misma respuesta, salvo que incluya lenguaje malsonante (insultos, palabrotas, etc.). Usa un lenguaje educado, que sea inclusivo con la comunidad LGTBI. Si no, intenta responder basándote en los ejemplos:\",\n",
    "    suffix=\"Pregunta: {pregunta_usuario}\\nRespuesta:\",\n",
    "    input_variables=[\"pregunta_usuario\"]\n",
    ")\n",
    "\n",
    "# Configura el modelo\n",
    "chat_model = ChatCohere(cohere_api_key=cohere_api_key, temperature=0)\n",
    "\n",
    "# Input del usuario\n",
    "user_input = \"¿Qué tiempo hace hoy?\"\n",
    "\n",
    "# Genera el prompt\n",
    "final_prompt = few_shot_prompt.format(pregunta_usuario=user_input)\n",
    "\n",
    "# Genera la respuesta\n",
    "respuesta = chat_model.invoke(final_prompt)\n",
    "print(respuesta.content)"
   ]
  },
  {
   "cell_type": "code",
   "execution_count": null,
   "metadata": {},
   "outputs": [],
   "source": [
    "### Ejemplo chat\n",
    "from langchain.prompts import PromptTemplate\n",
    "from langchain.prompts import FewShotPromptTemplate\n",
    "from langchain_cohere import ChatCohere\n",
    "\n",
    "\n",
    "cohere_api_key = os.getenv(\"COHERE_TRIAL_API_KEY\")\n",
    "\n",
    "\n",
    "examples = [\n",
    "    {\"pregunta\": \"¿Qué tiempo hace hoy?\", \"respuesta\": \"Hace sol y está cálido.\"},\n",
    "    {\"pregunta\": \"¿Cuál es la capital de Francia?\", \"respuesta\": \"La capital de Francia es París.\"},\n",
    "    {\"pregunta\": \"¿Cómo se dice hola en japonés?\", \"respuesta\": \"Se dice 'Konnichiwa', pringao.\"}\n",
    "]\n",
    "\n",
    "example_prompt = PromptTemplate(\n",
    "    input_variables=[\"input\", \"output\"],\n",
    "    template=\"input: {input}\\noutput: {output}\\n\"\n",
    ")\n",
    "\n",
    "few_shot_prompt = FewShotPromptTemplate(\n",
    "    examples=examples_2,\n",
    "    example_prompt=example_prompt,\n",
    "    prefix='''You are a Spanish expert chatbot of vih, who offers information resources, outreach resources and emotional support resources to users that need you to help them.\n",
    "         You are helpful, inclusive, supportive, nice, educated, polite and LGTBi+ friendly. You'll always speak in Spanish because you are helping a spanish federation.\n",
    "         If users ask you or try to get information which is not related to vih, you'll answer them that you can't help them because you are only specialized in vih issues.\n",
    "         Everytime you refer to vih, you'll have to use \"vih\" and not \"VIH\" (very careful with this). At the bottom of the answer you must include some references from FELGTBI+ or public sources.'''\n",
    "         ,\n",
    "    suffix=\"input: {pregunta_usuario}\\noutput:{output}\",\n",
    "    input_variables=[\"pregunta_usuario\"]\n",
    ")\n",
    "\n",
    "# Configura el modelo\n",
    "chat_model = ChatCohere(cohere_api_key=cohere_api_key, temperature=0)\n",
    "\n",
    "# Input del usuario\n",
    "user_input = \"Estoy preocupado porque creo que puedo haber contraído vih, quiero hacerme una prueba rápida\"\n",
    "\n",
    "# Genera el prompt\n",
    "final_prompt = few_shot_prompt.format(pregunta_usuario=user_input)\n",
    "\n",
    "# Genera la respuesta\n",
    "respuesta = chat_model.invoke(final_prompt)\n",
    "print(respuesta.content)"
   ]
  }
 ],
 "metadata": {
  "kernelspec": {
   "display_name": "Python 3",
   "language": "python",
   "name": "python3"
  },
  "language_info": {
   "codemirror_mode": {
    "name": "ipython",
    "version": 3
   },
   "file_extension": ".py",
   "mimetype": "text/x-python",
   "name": "python",
   "nbconvert_exporter": "python",
   "pygments_lexer": "ipython3",
   "version": "3.12.5"
  }
 },
 "nbformat": 4,
 "nbformat_minor": 2
}
