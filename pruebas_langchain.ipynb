{
 "cells": [
  {
   "cell_type": "code",
   "execution_count": null,
   "metadata": {},
   "outputs": [],
   "source": [
    "import cohere  #LLLM used for the development of the application\n",
    "from langchain_cohere import ChatCohere\n",
    "from langchain_mistralai import ChatMistralAI ### No sirve\n",
    "from langchain_core.messages import HumanMessage, SystemMessage\n",
    "from langchain_core.prompts import ChatPromptTemplate\n",
    "from langchain_core.output_parsers import StrOutputParser\n",
    "import os\n",
    "from dotenv import load_dotenv\n",
    "from fastapi import FastAPI, Request, HTTPException, Form"
   ]
  },
  {
   "cell_type": "code",
   "execution_count": null,
   "metadata": {},
   "outputs": [],
   "source": [
    "load_dotenv()\n",
    "cohere_api_key = os.getenv(\"COHERE_TRIAL_API_KEY\")\n",
    "#langchain_api_key = os.getenv(\"LANGCHAIN_API_KEY\")"
   ]
  },
  {
   "cell_type": "code",
   "execution_count": null,
   "metadata": {},
   "outputs": [],
   "source": [
    "def popcornai_recommendation(user_input:str):\n",
    "    '''\n",
    "    Function which returns a recommendation of a series or a film depending on the\n",
    "    details described in the 'user_input'. This function is based on the Cohere LLM\n",
    "    '''\n",
    "    #We define the Cohere llm\n",
    "    llm = ChatCohere(cohere_api_key=cohere_api_key) #Aquí podemos limitar los tokens con max_tokens \n",
    "\n",
    "    #We create the prompt template\n",
    "    template = ChatPromptTemplate([\n",
    "        (\"system\", '''You are an expert of series and films of all times (both old and new) name PopCornAI, who recommends series or films\n",
    "         to users based on what they tell you they want to watch. You are helpful, inclusive, nice, educated and polite. If users don't indicate you key words as \"films\", \"series\" or similars, \n",
    "         you will tell them that you need more information in the query to give them an appropiate recommedation.'''),\n",
    "        (\"ai\", \"Hello, I'm PopcornAI and I'm here to recommend you a film or a serie based on what you introduce below:)\"),\n",
    "        (\"human\", user_input),\n",
    "    ])\n",
    "    try:\n",
    "        if len(user_input.strip()) != 0:\n",
    "            #We generate the prompt with the user input, passing it to the previously defined template.\n",
    "            prompt_value = template.invoke({\"user_input\":user_input})\n",
    "\n",
    "            #The prompt is sent to the model\n",
    "            response = llm.invoke(prompt_value)\n",
    "\n",
    "            return response.content\n",
    "        else:\n",
    "            return \"Empty query. Please, include some details in order to be able to recommend you a movie/series based on these details\"\n",
    "        \n",
    "    except HTTPException as e:\n",
    "        return"
   ]
  }
 ],
 "metadata": {
  "kernelspec": {
   "display_name": "Python 3",
   "language": "python",
   "name": "python3"
  },
  "language_info": {
   "name": "python",
   "version": "3.12.5"
  }
 },
 "nbformat": 4,
 "nbformat_minor": 2
}
