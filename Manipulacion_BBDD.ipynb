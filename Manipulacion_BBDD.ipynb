{
 "cells": [
  {
   "cell_type": "code",
   "execution_count": 23,
   "metadata": {},
   "outputs": [],
   "source": [
    "import psycopg2"
   ]
  },
  {
   "cell_type": "code",
   "execution_count": 24,
   "metadata": {},
   "outputs": [],
   "source": [
    "user = \"postgres\"\n",
    "password = \"8qReY&oP2%kBJR\"\n",
    "host  = \"proyecto-final.c9egi4wa8bqm.eu-west-1.rds.amazonaws.com\"\n",
    "port = \"5432\""
   ]
  },
  {
   "cell_type": "code",
   "execution_count": 30,
   "metadata": {},
   "outputs": [
    {
     "name": "stdout",
     "output_type": "stream",
     "text": [
      "Conexión exitosa a la base de datos.\n"
     ]
    }
   ],
   "source": [
    "connection = psycopg2.connect(\n",
    "    host=host,\n",
    "    port=port,\n",
    "    user=user,\n",
    "    password=password,\n",
    ")\n",
    "print(\"Conexión exitosa a la base de datos.\")"
   ]
  },
  {
   "cell_type": "code",
   "execution_count": 31,
   "metadata": {},
   "outputs": [],
   "source": [
    "cursor = connection.cursor()"
   ]
  },
  {
   "cell_type": "code",
   "execution_count": 32,
   "metadata": {},
   "outputs": [
    {
     "name": "stdout",
     "output_type": "stream",
     "text": [
      "Versión de PostgreSQL: ('PostgreSQL 16.3 on aarch64-unknown-linux-gnu, compiled by gcc (GCC) 7.3.1 20180712 (Red Hat 7.3.1-17), 64-bit',)\n"
     ]
    }
   ],
   "source": [
    "cursor.execute(\"SELECT version();\")\n",
    "version = cursor.fetchone()\n",
    "print(\"Versión de PostgreSQL:\", version)"
   ]
  },
  {
   "cell_type": "code",
   "execution_count": 33,
   "metadata": {},
   "outputs": [
    {
     "name": "stdout",
     "output_type": "stream",
     "text": [
      "preguntas\n",
      "respuestas\n",
      "admins\n",
      "respuestas_usuarios\n"
     ]
    }
   ],
   "source": [
    "cursor.execute(\"SELECT tablename FROM pg_tables WHERE schemaname = 'public';\")\n",
    "tables = cursor.fetchall()\n",
    "\n",
    "for table in tables:\n",
    "    print(table[0])\n"
   ]
  },
  {
   "cell_type": "code",
   "execution_count": 34,
   "metadata": {},
   "outputs": [
    {
     "name": "stdout",
     "output_type": "stream",
     "text": [
      "(1, '::1', 'usuario', 'Toledo', 'Castilla-La Mancha', 'Amigos', datetime.datetime(2024, 12, 6, 17, 49, 36, 945553), 'No', 'NULL', 'NULL', 21, 'España', 'Cisgénero', 'Heterosexual', 'Pareja Estable', 'NULL', None, None, None)\n",
      "(2, '::1', 'sociosanitario', 'Málaga', 'Andalucía', 'Amigos', datetime.datetime(2024, 12, 6, 18, 8, 36, 910089), 'Sí', 'Menos de un mes', 'Menos de un mes', None, None, None, None, None, None, 'Residencia de Mayores', 'Geriatría', False)\n"
     ]
    }
   ],
   "source": [
    "cursor.execute(\"SELECT * FROM respuestas_usuarios;\")\n",
    "rows = cursor.fetchall()\n",
    "\n",
    "for row in rows:\n",
    "     print(row)\n"
   ]
  }
 ],
 "metadata": {
  "kernelspec": {
   "display_name": "Python 3",
   "language": "python",
   "name": "python3"
  },
  "language_info": {
   "codemirror_mode": {
    "name": "ipython",
    "version": 3
   },
   "file_extension": ".py",
   "mimetype": "text/x-python",
   "name": "python",
   "nbconvert_exporter": "python",
   "pygments_lexer": "ipython3",
   "version": "3.12.3"
  }
 },
 "nbformat": 4,
 "nbformat_minor": 2
}
